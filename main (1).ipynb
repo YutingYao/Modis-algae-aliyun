{
 "cells": [
  {
   "cell_type": "markdown",
   "id": "bd855547-5f57-4b8d-8df1-fd369025c3f9",
   "metadata": {},
   "source": [
    "# 环境初始化"
   ]
  },
  {
   "cell_type": "code",
   "execution_count": 1,
   "id": "e38eabda",
   "metadata": {
    "trusted": true
   },
   "outputs": [],
   "source": [
    "import aie\n",
    "\n",
    "from aiearth.core.error import aie_error\n",
    "\n",
    "save_img = True\n",
    "# aie.Authenticate(token='ff0859af79711070b75b93848452399e')\n",
    "\n",
    "# 如果在AIearthNotebook环境运行或本地环境变量中已经有了可以不用写\n",
    "aiearth_token = \"ff0859af79711070b75b93848452399e\" "
   ]
  },
  {
   "cell_type": "markdown",
   "id": "e9751074",
   "metadata": {},
   "source": [
    "# 鉴权初始化"
   ]
  },
  {
   "cell_type": "code",
   "execution_count": 2,
   "id": "8c3a89bf",
   "metadata": {},
   "outputs": [
    {
     "name": "stdout",
     "output_type": "stream",
     "text": [
      "token: ff0859af79711070b75b93848452399e\n",
      "计算资源初始化中，请等待...\n",
      "计算资源初始化完成.\n"
     ]
    }
   ],
   "source": [
    "try:\n",
    "    import os\n",
    "    token = aiearth_token or os.environ.get('aiearth_token') \n",
    "\n",
    "    if token is None:\n",
    "        print('尝试获取token...')\n",
    "        aie.Authenticate()\n",
    "    else:\n",
    "        print('token:',token)\n",
    "        aie.Authenticate(token=token)\n",
    "        \n",
    "    aie.Initialize()\n",
    "    \n",
    "except AttributeError as e:\n",
    "    print(e)\n",
    "    assert False,'项目没有初始化或者aie-sdk可能没有被正确安装！'\n",
    "\n",
    "# catching classes that do not inherit from BaseException is not allowed\n",
    "# except aie_error as e:\n",
    "#     print(e)\n",
    "    \n",
    "except Exception as e:\n",
    "    print(e)    "
   ]
  },
  {
   "cell_type": "markdown",
   "id": "127afc35",
   "metadata": {},
   "source": [
    "# 确定roi"
   ]
  },
  {
   "cell_type": "code",
   "execution_count": 3,
   "id": "aa56b2ab",
   "metadata": {
    "trusted": true
   },
   "outputs": [],
   "source": [
    "\n",
    "feature_collection_1 = aie.FeatureCollection('China_Province') \\\n",
    "                        .filter(aie.Filter.eq('province', '广西壮族自治区'))\n",
    "\n",
    "feature_collection_2 = aie.FeatureCollection('China_Province') \\\n",
    "                        .filter(aie.Filter.eq('province', '广东省'))\n",
    "\n",
    "union_fc = feature_collection_1.merge(feature_collection_2).union()\n",
    "union_geometry = union_fc.geometry()\n",
    "\n",
    "# feature的导出方式和image不同，要单独写\n",
    "# aie.Export.feature.toAsset(union_fc, \"union_fc\").start()"
   ]
  },
  {
   "cell_type": "markdown",
   "id": "d1a624ea",
   "metadata": {},
   "source": [
    "# 地图初始化"
   ]
  },
  {
   "cell_type": "code",
   "execution_count": 4,
   "id": "45d59986",
   "metadata": {},
   "outputs": [
    {
     "data": {
      "application/vnd.jupyter.widget-view+json": {
       "model_id": "deb77884fe984a918669ce51bef6ddad",
       "version_major": 2,
       "version_minor": 0
      },
      "text/plain": [
       "Map(center=[23.30590084, 110.87501098], controls=(ZoomControl(options=['position', 'zoom_in_text', 'zoom_in_ti…"
      ]
     },
     "execution_count": 4,
     "metadata": {},
     "output_type": "execute_result"
    }
   ],
   "source": [
    "map = aie.Map(\n",
    "    center=union_fc.getCenter(),\n",
    "    height=800,\n",
    "    zoom=6\n",
    ")\n",
    "\n",
    "vis_params = {\n",
    "    'color': '#00FF00'\n",
    "}\n",
    "\n",
    "map.addLayer(\n",
    "    union_fc,\n",
    "    vis_params,\n",
    "    'region',\n",
    "    bounds=union_fc.getBounds()\n",
    ")\n",
    "map"
   ]
  },
  {
   "cell_type": "markdown",
   "id": "f5cf872c",
   "metadata": {},
   "source": [
    "# 辅助函数"
   ]
  },
  {
   "cell_type": "code",
   "execution_count": 5,
   "id": "d9921a2c",
   "metadata": {},
   "outputs": [],
   "source": [
    "from math import sqrt\n",
    "\n",
    "img_all = {}\n",
    "\n",
    "def get_max_and_min(img_target:aie.Image,region:aie.Geometry=union_geometry):\n",
    "    reducer = aie.Reducer.max().combine(reducer2=aie.Reducer.min(), sharedInputs=True)\n",
    "    result = img_target.reduceRegion(reducer, region)\n",
    "    max,min = list(result.getInfo().values())\n",
    "    return max,min\n",
    "\n",
    "def fix_with_mean(img_target:aie.Image,region:aie.Geometry=union_geometry):\n",
    "    reducer = aie.Reducer.mean()\n",
    "    result = img_target.reduceRegion(reducer, union_geometry)\n",
    "\n",
    "    mean_tag = list(result.getInfo().keys())[0]\n",
    "    target_mean = result.getInfo()[mean_tag] \n",
    "    \n",
    "    img_mean = aie.Image(target_mean).clip(union_geometry)\n",
    "    img_target = img_target.unmask(img_mean)\n",
    "    img_target = img_target.updateMask(img_target.mask())\n",
    "    \n",
    "    return img_target\n",
    "\n",
    "\n",
    "def save(img_target:aie.Image, filename:str=None):\n",
    "    if filename is None:\n",
    "        filename = img_target.bandNames().getInfo()[1]\n",
    "    \n",
    "    # 获取分辨率\n",
    "    reducer = aie.Reducer.min()\n",
    "    result = img_target.pixelArea().reduceRegion(reducer, union_geometry)\n",
    "    area = sqrt(result.getInfo()['area_min'])\n",
    "    \n",
    "    name = img_target.bandNames().getInfo()[0]\n",
    "    print(name + \":\" + str(area))\n",
    "\n",
    "    # 导出到持久化空间\n",
    "    aie.Export.image.toAsset(img_target, filename, area).start()\n",
    "        \n",
    "        \n",
    "def add_img(img_target:aie.Image, map:aie.Map=map, vis_params:dict=None):\n",
    "    name = img_target.bandNames().getInfo()[0]\n",
    "        \n",
    "    if not vis_params:\n",
    "        vis_params = {\n",
    "            'palette': [\n",
    "                '0,0,255','0,255,255','0,255,0','255,255,0','255,0,0'\n",
    "            ]\n",
    "        }\n",
    "    if not 'max' in vis_params.keys():\n",
    "        max,min = get_max_and_min(img_target)\n",
    "        vis_params['max'] = max\n",
    "        vis_params['min'] = min\n",
    "    if not 'bands' in vis_params.keys():\n",
    "        vis_params['bands'] = name\n",
    "    \n",
    "    map.addLayer(\n",
    "        img_target,\n",
    "        vis_params,\n",
    "        name,\n",
    "        bounds=union_fc.getBounds()\n",
    "    )\n",
    "    \n",
    "    if save_img:\n",
    "        save(img_target, name)    \n",
    "        \n",
    "    img_all[name] = img_target"
   ]
  },
  {
   "cell_type": "markdown",
   "id": "58680ddd",
   "metadata": {},
   "source": [
    "# 获取数据集"
   ]
  },
  {
   "cell_type": "code",
   "execution_count": 7,
   "id": "a28ffc39",
   "metadata": {
    "trusted": true
   },
   "outputs": [
    {
     "ename": "ConnectionError",
     "evalue": "('Connection aborted.', RemoteDisconnected('Remote end closed connection without response'))",
     "output_type": "error",
     "traceback": [
      "\u001b[0;31m---------------------------------------------------------------------------\u001b[0m",
      "\u001b[0;31mRemoteDisconnected\u001b[0m                        Traceback (most recent call last)",
      "File \u001b[0;32m~/.conda/envs/hydro/envs/aie-sdk/lib/python3.11/site-packages/urllib3/connectionpool.py:791\u001b[0m, in \u001b[0;36mHTTPConnectionPool.urlopen\u001b[0;34m(self, method, url, body, headers, retries, redirect, assert_same_host, timeout, pool_timeout, release_conn, chunked, body_pos, preload_content, decode_content, **response_kw)\u001b[0m\n\u001b[1;32m    790\u001b[0m \u001b[38;5;66;03m# Make the request on the HTTPConnection object\u001b[39;00m\n\u001b[0;32m--> 791\u001b[0m response \u001b[38;5;241m=\u001b[39m \u001b[38;5;28;43mself\u001b[39;49m\u001b[38;5;241;43m.\u001b[39;49m\u001b[43m_make_request\u001b[49m\u001b[43m(\u001b[49m\n\u001b[1;32m    792\u001b[0m \u001b[43m    \u001b[49m\u001b[43mconn\u001b[49m\u001b[43m,\u001b[49m\n\u001b[1;32m    793\u001b[0m \u001b[43m    \u001b[49m\u001b[43mmethod\u001b[49m\u001b[43m,\u001b[49m\n\u001b[1;32m    794\u001b[0m \u001b[43m    \u001b[49m\u001b[43murl\u001b[49m\u001b[43m,\u001b[49m\n\u001b[1;32m    795\u001b[0m \u001b[43m    \u001b[49m\u001b[43mtimeout\u001b[49m\u001b[38;5;241;43m=\u001b[39;49m\u001b[43mtimeout_obj\u001b[49m\u001b[43m,\u001b[49m\n\u001b[1;32m    796\u001b[0m \u001b[43m    \u001b[49m\u001b[43mbody\u001b[49m\u001b[38;5;241;43m=\u001b[39;49m\u001b[43mbody\u001b[49m\u001b[43m,\u001b[49m\n\u001b[1;32m    797\u001b[0m \u001b[43m    \u001b[49m\u001b[43mheaders\u001b[49m\u001b[38;5;241;43m=\u001b[39;49m\u001b[43mheaders\u001b[49m\u001b[43m,\u001b[49m\n\u001b[1;32m    798\u001b[0m \u001b[43m    \u001b[49m\u001b[43mchunked\u001b[49m\u001b[38;5;241;43m=\u001b[39;49m\u001b[43mchunked\u001b[49m\u001b[43m,\u001b[49m\n\u001b[1;32m    799\u001b[0m \u001b[43m    \u001b[49m\u001b[43mretries\u001b[49m\u001b[38;5;241;43m=\u001b[39;49m\u001b[43mretries\u001b[49m\u001b[43m,\u001b[49m\n\u001b[1;32m    800\u001b[0m \u001b[43m    \u001b[49m\u001b[43mresponse_conn\u001b[49m\u001b[38;5;241;43m=\u001b[39;49m\u001b[43mresponse_conn\u001b[49m\u001b[43m,\u001b[49m\n\u001b[1;32m    801\u001b[0m \u001b[43m    \u001b[49m\u001b[43mpreload_content\u001b[49m\u001b[38;5;241;43m=\u001b[39;49m\u001b[43mpreload_content\u001b[49m\u001b[43m,\u001b[49m\n\u001b[1;32m    802\u001b[0m \u001b[43m    \u001b[49m\u001b[43mdecode_content\u001b[49m\u001b[38;5;241;43m=\u001b[39;49m\u001b[43mdecode_content\u001b[49m\u001b[43m,\u001b[49m\n\u001b[1;32m    803\u001b[0m \u001b[43m    \u001b[49m\u001b[38;5;241;43m*\u001b[39;49m\u001b[38;5;241;43m*\u001b[39;49m\u001b[43mresponse_kw\u001b[49m\u001b[43m,\u001b[49m\n\u001b[1;32m    804\u001b[0m \u001b[43m\u001b[49m\u001b[43m)\u001b[49m\n\u001b[1;32m    806\u001b[0m \u001b[38;5;66;03m# Everything went great!\u001b[39;00m\n",
      "File \u001b[0;32m~/.conda/envs/hydro/envs/aie-sdk/lib/python3.11/site-packages/urllib3/connectionpool.py:537\u001b[0m, in \u001b[0;36mHTTPConnectionPool._make_request\u001b[0;34m(self, conn, method, url, body, headers, retries, timeout, chunked, response_conn, preload_content, decode_content, enforce_content_length)\u001b[0m\n\u001b[1;32m    536\u001b[0m \u001b[38;5;28;01mtry\u001b[39;00m:\n\u001b[0;32m--> 537\u001b[0m     response \u001b[38;5;241m=\u001b[39m \u001b[43mconn\u001b[49m\u001b[38;5;241;43m.\u001b[39;49m\u001b[43mgetresponse\u001b[49m\u001b[43m(\u001b[49m\u001b[43m)\u001b[49m\n\u001b[1;32m    538\u001b[0m \u001b[38;5;28;01mexcept\u001b[39;00m (BaseSSLError, \u001b[38;5;167;01mOSError\u001b[39;00m) \u001b[38;5;28;01mas\u001b[39;00m e:\n",
      "File \u001b[0;32m~/.conda/envs/hydro/envs/aie-sdk/lib/python3.11/site-packages/urllib3/connection.py:461\u001b[0m, in \u001b[0;36mHTTPConnection.getresponse\u001b[0;34m(self)\u001b[0m\n\u001b[1;32m    460\u001b[0m \u001b[38;5;66;03m# Get the response from http.client.HTTPConnection\u001b[39;00m\n\u001b[0;32m--> 461\u001b[0m httplib_response \u001b[38;5;241m=\u001b[39m \u001b[38;5;28;43msuper\u001b[39;49m\u001b[43m(\u001b[49m\u001b[43m)\u001b[49m\u001b[38;5;241;43m.\u001b[39;49m\u001b[43mgetresponse\u001b[49m\u001b[43m(\u001b[49m\u001b[43m)\u001b[49m\n\u001b[1;32m    463\u001b[0m \u001b[38;5;28;01mtry\u001b[39;00m:\n",
      "File \u001b[0;32m~/.conda/envs/hydro/envs/aie-sdk/lib/python3.11/http/client.py:1395\u001b[0m, in \u001b[0;36mHTTPConnection.getresponse\u001b[0;34m(self)\u001b[0m\n\u001b[1;32m   1394\u001b[0m \u001b[38;5;28;01mtry\u001b[39;00m:\n\u001b[0;32m-> 1395\u001b[0m     \u001b[43mresponse\u001b[49m\u001b[38;5;241;43m.\u001b[39;49m\u001b[43mbegin\u001b[49m\u001b[43m(\u001b[49m\u001b[43m)\u001b[49m\n\u001b[1;32m   1396\u001b[0m \u001b[38;5;28;01mexcept\u001b[39;00m \u001b[38;5;167;01mConnectionError\u001b[39;00m:\n",
      "File \u001b[0;32m~/.conda/envs/hydro/envs/aie-sdk/lib/python3.11/http/client.py:325\u001b[0m, in \u001b[0;36mHTTPResponse.begin\u001b[0;34m(self)\u001b[0m\n\u001b[1;32m    324\u001b[0m \u001b[38;5;28;01mwhile\u001b[39;00m \u001b[38;5;28;01mTrue\u001b[39;00m:\n\u001b[0;32m--> 325\u001b[0m     version, status, reason \u001b[38;5;241m=\u001b[39m \u001b[38;5;28;43mself\u001b[39;49m\u001b[38;5;241;43m.\u001b[39;49m\u001b[43m_read_status\u001b[49m\u001b[43m(\u001b[49m\u001b[43m)\u001b[49m\n\u001b[1;32m    326\u001b[0m     \u001b[38;5;28;01mif\u001b[39;00m status \u001b[38;5;241m!=\u001b[39m CONTINUE:\n",
      "File \u001b[0;32m~/.conda/envs/hydro/envs/aie-sdk/lib/python3.11/http/client.py:294\u001b[0m, in \u001b[0;36mHTTPResponse._read_status\u001b[0;34m(self)\u001b[0m\n\u001b[1;32m    291\u001b[0m \u001b[38;5;28;01mif\u001b[39;00m \u001b[38;5;129;01mnot\u001b[39;00m line:\n\u001b[1;32m    292\u001b[0m     \u001b[38;5;66;03m# Presumably, the server closed the connection before\u001b[39;00m\n\u001b[1;32m    293\u001b[0m     \u001b[38;5;66;03m# sending a valid response.\u001b[39;00m\n\u001b[0;32m--> 294\u001b[0m     \u001b[38;5;28;01mraise\u001b[39;00m RemoteDisconnected(\u001b[38;5;124m\"\u001b[39m\u001b[38;5;124mRemote end closed connection without\u001b[39m\u001b[38;5;124m\"\u001b[39m\n\u001b[1;32m    295\u001b[0m                              \u001b[38;5;124m\"\u001b[39m\u001b[38;5;124m response\u001b[39m\u001b[38;5;124m\"\u001b[39m)\n\u001b[1;32m    296\u001b[0m \u001b[38;5;28;01mtry\u001b[39;00m:\n",
      "\u001b[0;31mRemoteDisconnected\u001b[0m: Remote end closed connection without response",
      "\nDuring handling of the above exception, another exception occurred:\n",
      "\u001b[0;31mProtocolError\u001b[0m                             Traceback (most recent call last)",
      "File \u001b[0;32m~/.conda/envs/hydro/envs/aie-sdk/lib/python3.11/site-packages/requests/adapters.py:486\u001b[0m, in \u001b[0;36mHTTPAdapter.send\u001b[0;34m(self, request, stream, timeout, verify, cert, proxies)\u001b[0m\n\u001b[1;32m    485\u001b[0m \u001b[38;5;28;01mtry\u001b[39;00m:\n\u001b[0;32m--> 486\u001b[0m     resp \u001b[38;5;241m=\u001b[39m \u001b[43mconn\u001b[49m\u001b[38;5;241;43m.\u001b[39;49m\u001b[43murlopen\u001b[49m\u001b[43m(\u001b[49m\n\u001b[1;32m    487\u001b[0m \u001b[43m        \u001b[49m\u001b[43mmethod\u001b[49m\u001b[38;5;241;43m=\u001b[39;49m\u001b[43mrequest\u001b[49m\u001b[38;5;241;43m.\u001b[39;49m\u001b[43mmethod\u001b[49m\u001b[43m,\u001b[49m\n\u001b[1;32m    488\u001b[0m \u001b[43m        \u001b[49m\u001b[43murl\u001b[49m\u001b[38;5;241;43m=\u001b[39;49m\u001b[43murl\u001b[49m\u001b[43m,\u001b[49m\n\u001b[1;32m    489\u001b[0m \u001b[43m        \u001b[49m\u001b[43mbody\u001b[49m\u001b[38;5;241;43m=\u001b[39;49m\u001b[43mrequest\u001b[49m\u001b[38;5;241;43m.\u001b[39;49m\u001b[43mbody\u001b[49m\u001b[43m,\u001b[49m\n\u001b[1;32m    490\u001b[0m \u001b[43m        \u001b[49m\u001b[43mheaders\u001b[49m\u001b[38;5;241;43m=\u001b[39;49m\u001b[43mrequest\u001b[49m\u001b[38;5;241;43m.\u001b[39;49m\u001b[43mheaders\u001b[49m\u001b[43m,\u001b[49m\n\u001b[1;32m    491\u001b[0m \u001b[43m        \u001b[49m\u001b[43mredirect\u001b[49m\u001b[38;5;241;43m=\u001b[39;49m\u001b[38;5;28;43;01mFalse\u001b[39;49;00m\u001b[43m,\u001b[49m\n\u001b[1;32m    492\u001b[0m \u001b[43m        \u001b[49m\u001b[43massert_same_host\u001b[49m\u001b[38;5;241;43m=\u001b[39;49m\u001b[38;5;28;43;01mFalse\u001b[39;49;00m\u001b[43m,\u001b[49m\n\u001b[1;32m    493\u001b[0m \u001b[43m        \u001b[49m\u001b[43mpreload_content\u001b[49m\u001b[38;5;241;43m=\u001b[39;49m\u001b[38;5;28;43;01mFalse\u001b[39;49;00m\u001b[43m,\u001b[49m\n\u001b[1;32m    494\u001b[0m \u001b[43m        \u001b[49m\u001b[43mdecode_content\u001b[49m\u001b[38;5;241;43m=\u001b[39;49m\u001b[38;5;28;43;01mFalse\u001b[39;49;00m\u001b[43m,\u001b[49m\n\u001b[1;32m    495\u001b[0m \u001b[43m        \u001b[49m\u001b[43mretries\u001b[49m\u001b[38;5;241;43m=\u001b[39;49m\u001b[38;5;28;43mself\u001b[39;49m\u001b[38;5;241;43m.\u001b[39;49m\u001b[43mmax_retries\u001b[49m\u001b[43m,\u001b[49m\n\u001b[1;32m    496\u001b[0m \u001b[43m        \u001b[49m\u001b[43mtimeout\u001b[49m\u001b[38;5;241;43m=\u001b[39;49m\u001b[43mtimeout\u001b[49m\u001b[43m,\u001b[49m\n\u001b[1;32m    497\u001b[0m \u001b[43m        \u001b[49m\u001b[43mchunked\u001b[49m\u001b[38;5;241;43m=\u001b[39;49m\u001b[43mchunked\u001b[49m\u001b[43m,\u001b[49m\n\u001b[1;32m    498\u001b[0m \u001b[43m    \u001b[49m\u001b[43m)\u001b[49m\n\u001b[1;32m    500\u001b[0m \u001b[38;5;28;01mexcept\u001b[39;00m (ProtocolError, \u001b[38;5;167;01mOSError\u001b[39;00m) \u001b[38;5;28;01mas\u001b[39;00m err:\n",
      "File \u001b[0;32m~/.conda/envs/hydro/envs/aie-sdk/lib/python3.11/site-packages/urllib3/connectionpool.py:845\u001b[0m, in \u001b[0;36mHTTPConnectionPool.urlopen\u001b[0;34m(self, method, url, body, headers, retries, redirect, assert_same_host, timeout, pool_timeout, release_conn, chunked, body_pos, preload_content, decode_content, **response_kw)\u001b[0m\n\u001b[1;32m    843\u001b[0m     new_e \u001b[38;5;241m=\u001b[39m ProtocolError(\u001b[38;5;124m\"\u001b[39m\u001b[38;5;124mConnection aborted.\u001b[39m\u001b[38;5;124m\"\u001b[39m, new_e)\n\u001b[0;32m--> 845\u001b[0m retries \u001b[38;5;241m=\u001b[39m \u001b[43mretries\u001b[49m\u001b[38;5;241;43m.\u001b[39;49m\u001b[43mincrement\u001b[49m\u001b[43m(\u001b[49m\n\u001b[1;32m    846\u001b[0m \u001b[43m    \u001b[49m\u001b[43mmethod\u001b[49m\u001b[43m,\u001b[49m\u001b[43m \u001b[49m\u001b[43murl\u001b[49m\u001b[43m,\u001b[49m\u001b[43m \u001b[49m\u001b[43merror\u001b[49m\u001b[38;5;241;43m=\u001b[39;49m\u001b[43mnew_e\u001b[49m\u001b[43m,\u001b[49m\u001b[43m \u001b[49m\u001b[43m_pool\u001b[49m\u001b[38;5;241;43m=\u001b[39;49m\u001b[38;5;28;43mself\u001b[39;49m\u001b[43m,\u001b[49m\u001b[43m \u001b[49m\u001b[43m_stacktrace\u001b[49m\u001b[38;5;241;43m=\u001b[39;49m\u001b[43msys\u001b[49m\u001b[38;5;241;43m.\u001b[39;49m\u001b[43mexc_info\u001b[49m\u001b[43m(\u001b[49m\u001b[43m)\u001b[49m\u001b[43m[\u001b[49m\u001b[38;5;241;43m2\u001b[39;49m\u001b[43m]\u001b[49m\n\u001b[1;32m    847\u001b[0m \u001b[43m\u001b[49m\u001b[43m)\u001b[49m\n\u001b[1;32m    848\u001b[0m retries\u001b[38;5;241m.\u001b[39msleep()\n",
      "File \u001b[0;32m~/.conda/envs/hydro/envs/aie-sdk/lib/python3.11/site-packages/urllib3/util/retry.py:470\u001b[0m, in \u001b[0;36mRetry.increment\u001b[0;34m(self, method, url, response, error, _pool, _stacktrace)\u001b[0m\n\u001b[1;32m    469\u001b[0m \u001b[38;5;28;01mif\u001b[39;00m read \u001b[38;5;129;01mis\u001b[39;00m \u001b[38;5;28;01mFalse\u001b[39;00m \u001b[38;5;129;01mor\u001b[39;00m method \u001b[38;5;129;01mis\u001b[39;00m \u001b[38;5;28;01mNone\u001b[39;00m \u001b[38;5;129;01mor\u001b[39;00m \u001b[38;5;129;01mnot\u001b[39;00m \u001b[38;5;28mself\u001b[39m\u001b[38;5;241m.\u001b[39m_is_method_retryable(method):\n\u001b[0;32m--> 470\u001b[0m     \u001b[38;5;28;01mraise\u001b[39;00m \u001b[43mreraise\u001b[49m\u001b[43m(\u001b[49m\u001b[38;5;28;43mtype\u001b[39;49m\u001b[43m(\u001b[49m\u001b[43merror\u001b[49m\u001b[43m)\u001b[49m\u001b[43m,\u001b[49m\u001b[43m \u001b[49m\u001b[43merror\u001b[49m\u001b[43m,\u001b[49m\u001b[43m \u001b[49m\u001b[43m_stacktrace\u001b[49m\u001b[43m)\u001b[49m\n\u001b[1;32m    471\u001b[0m \u001b[38;5;28;01melif\u001b[39;00m read \u001b[38;5;129;01mis\u001b[39;00m \u001b[38;5;129;01mnot\u001b[39;00m \u001b[38;5;28;01mNone\u001b[39;00m:\n",
      "File \u001b[0;32m~/.conda/envs/hydro/envs/aie-sdk/lib/python3.11/site-packages/urllib3/util/util.py:38\u001b[0m, in \u001b[0;36mreraise\u001b[0;34m(tp, value, tb)\u001b[0m\n\u001b[1;32m     37\u001b[0m \u001b[38;5;28;01mif\u001b[39;00m value\u001b[38;5;241m.\u001b[39m__traceback__ \u001b[38;5;129;01mis\u001b[39;00m \u001b[38;5;129;01mnot\u001b[39;00m tb:\n\u001b[0;32m---> 38\u001b[0m     \u001b[38;5;28;01mraise\u001b[39;00m value\u001b[38;5;241m.\u001b[39mwith_traceback(tb)\n\u001b[1;32m     39\u001b[0m \u001b[38;5;28;01mraise\u001b[39;00m value\n",
      "File \u001b[0;32m~/.conda/envs/hydro/envs/aie-sdk/lib/python3.11/site-packages/urllib3/connectionpool.py:791\u001b[0m, in \u001b[0;36mHTTPConnectionPool.urlopen\u001b[0;34m(self, method, url, body, headers, retries, redirect, assert_same_host, timeout, pool_timeout, release_conn, chunked, body_pos, preload_content, decode_content, **response_kw)\u001b[0m\n\u001b[1;32m    790\u001b[0m \u001b[38;5;66;03m# Make the request on the HTTPConnection object\u001b[39;00m\n\u001b[0;32m--> 791\u001b[0m response \u001b[38;5;241m=\u001b[39m \u001b[38;5;28;43mself\u001b[39;49m\u001b[38;5;241;43m.\u001b[39;49m\u001b[43m_make_request\u001b[49m\u001b[43m(\u001b[49m\n\u001b[1;32m    792\u001b[0m \u001b[43m    \u001b[49m\u001b[43mconn\u001b[49m\u001b[43m,\u001b[49m\n\u001b[1;32m    793\u001b[0m \u001b[43m    \u001b[49m\u001b[43mmethod\u001b[49m\u001b[43m,\u001b[49m\n\u001b[1;32m    794\u001b[0m \u001b[43m    \u001b[49m\u001b[43murl\u001b[49m\u001b[43m,\u001b[49m\n\u001b[1;32m    795\u001b[0m \u001b[43m    \u001b[49m\u001b[43mtimeout\u001b[49m\u001b[38;5;241;43m=\u001b[39;49m\u001b[43mtimeout_obj\u001b[49m\u001b[43m,\u001b[49m\n\u001b[1;32m    796\u001b[0m \u001b[43m    \u001b[49m\u001b[43mbody\u001b[49m\u001b[38;5;241;43m=\u001b[39;49m\u001b[43mbody\u001b[49m\u001b[43m,\u001b[49m\n\u001b[1;32m    797\u001b[0m \u001b[43m    \u001b[49m\u001b[43mheaders\u001b[49m\u001b[38;5;241;43m=\u001b[39;49m\u001b[43mheaders\u001b[49m\u001b[43m,\u001b[49m\n\u001b[1;32m    798\u001b[0m \u001b[43m    \u001b[49m\u001b[43mchunked\u001b[49m\u001b[38;5;241;43m=\u001b[39;49m\u001b[43mchunked\u001b[49m\u001b[43m,\u001b[49m\n\u001b[1;32m    799\u001b[0m \u001b[43m    \u001b[49m\u001b[43mretries\u001b[49m\u001b[38;5;241;43m=\u001b[39;49m\u001b[43mretries\u001b[49m\u001b[43m,\u001b[49m\n\u001b[1;32m    800\u001b[0m \u001b[43m    \u001b[49m\u001b[43mresponse_conn\u001b[49m\u001b[38;5;241;43m=\u001b[39;49m\u001b[43mresponse_conn\u001b[49m\u001b[43m,\u001b[49m\n\u001b[1;32m    801\u001b[0m \u001b[43m    \u001b[49m\u001b[43mpreload_content\u001b[49m\u001b[38;5;241;43m=\u001b[39;49m\u001b[43mpreload_content\u001b[49m\u001b[43m,\u001b[49m\n\u001b[1;32m    802\u001b[0m \u001b[43m    \u001b[49m\u001b[43mdecode_content\u001b[49m\u001b[38;5;241;43m=\u001b[39;49m\u001b[43mdecode_content\u001b[49m\u001b[43m,\u001b[49m\n\u001b[1;32m    803\u001b[0m \u001b[43m    \u001b[49m\u001b[38;5;241;43m*\u001b[39;49m\u001b[38;5;241;43m*\u001b[39;49m\u001b[43mresponse_kw\u001b[49m\u001b[43m,\u001b[49m\n\u001b[1;32m    804\u001b[0m \u001b[43m\u001b[49m\u001b[43m)\u001b[49m\n\u001b[1;32m    806\u001b[0m \u001b[38;5;66;03m# Everything went great!\u001b[39;00m\n",
      "File \u001b[0;32m~/.conda/envs/hydro/envs/aie-sdk/lib/python3.11/site-packages/urllib3/connectionpool.py:537\u001b[0m, in \u001b[0;36mHTTPConnectionPool._make_request\u001b[0;34m(self, conn, method, url, body, headers, retries, timeout, chunked, response_conn, preload_content, decode_content, enforce_content_length)\u001b[0m\n\u001b[1;32m    536\u001b[0m \u001b[38;5;28;01mtry\u001b[39;00m:\n\u001b[0;32m--> 537\u001b[0m     response \u001b[38;5;241m=\u001b[39m \u001b[43mconn\u001b[49m\u001b[38;5;241;43m.\u001b[39;49m\u001b[43mgetresponse\u001b[49m\u001b[43m(\u001b[49m\u001b[43m)\u001b[49m\n\u001b[1;32m    538\u001b[0m \u001b[38;5;28;01mexcept\u001b[39;00m (BaseSSLError, \u001b[38;5;167;01mOSError\u001b[39;00m) \u001b[38;5;28;01mas\u001b[39;00m e:\n",
      "File \u001b[0;32m~/.conda/envs/hydro/envs/aie-sdk/lib/python3.11/site-packages/urllib3/connection.py:461\u001b[0m, in \u001b[0;36mHTTPConnection.getresponse\u001b[0;34m(self)\u001b[0m\n\u001b[1;32m    460\u001b[0m \u001b[38;5;66;03m# Get the response from http.client.HTTPConnection\u001b[39;00m\n\u001b[0;32m--> 461\u001b[0m httplib_response \u001b[38;5;241m=\u001b[39m \u001b[38;5;28;43msuper\u001b[39;49m\u001b[43m(\u001b[49m\u001b[43m)\u001b[49m\u001b[38;5;241;43m.\u001b[39;49m\u001b[43mgetresponse\u001b[49m\u001b[43m(\u001b[49m\u001b[43m)\u001b[49m\n\u001b[1;32m    463\u001b[0m \u001b[38;5;28;01mtry\u001b[39;00m:\n",
      "File \u001b[0;32m~/.conda/envs/hydro/envs/aie-sdk/lib/python3.11/http/client.py:1395\u001b[0m, in \u001b[0;36mHTTPConnection.getresponse\u001b[0;34m(self)\u001b[0m\n\u001b[1;32m   1394\u001b[0m \u001b[38;5;28;01mtry\u001b[39;00m:\n\u001b[0;32m-> 1395\u001b[0m     \u001b[43mresponse\u001b[49m\u001b[38;5;241;43m.\u001b[39;49m\u001b[43mbegin\u001b[49m\u001b[43m(\u001b[49m\u001b[43m)\u001b[49m\n\u001b[1;32m   1396\u001b[0m \u001b[38;5;28;01mexcept\u001b[39;00m \u001b[38;5;167;01mConnectionError\u001b[39;00m:\n",
      "File \u001b[0;32m~/.conda/envs/hydro/envs/aie-sdk/lib/python3.11/http/client.py:325\u001b[0m, in \u001b[0;36mHTTPResponse.begin\u001b[0;34m(self)\u001b[0m\n\u001b[1;32m    324\u001b[0m \u001b[38;5;28;01mwhile\u001b[39;00m \u001b[38;5;28;01mTrue\u001b[39;00m:\n\u001b[0;32m--> 325\u001b[0m     version, status, reason \u001b[38;5;241m=\u001b[39m \u001b[38;5;28;43mself\u001b[39;49m\u001b[38;5;241;43m.\u001b[39;49m\u001b[43m_read_status\u001b[49m\u001b[43m(\u001b[49m\u001b[43m)\u001b[49m\n\u001b[1;32m    326\u001b[0m     \u001b[38;5;28;01mif\u001b[39;00m status \u001b[38;5;241m!=\u001b[39m CONTINUE:\n",
      "File \u001b[0;32m~/.conda/envs/hydro/envs/aie-sdk/lib/python3.11/http/client.py:294\u001b[0m, in \u001b[0;36mHTTPResponse._read_status\u001b[0;34m(self)\u001b[0m\n\u001b[1;32m    291\u001b[0m \u001b[38;5;28;01mif\u001b[39;00m \u001b[38;5;129;01mnot\u001b[39;00m line:\n\u001b[1;32m    292\u001b[0m     \u001b[38;5;66;03m# Presumably, the server closed the connection before\u001b[39;00m\n\u001b[1;32m    293\u001b[0m     \u001b[38;5;66;03m# sending a valid response.\u001b[39;00m\n\u001b[0;32m--> 294\u001b[0m     \u001b[38;5;28;01mraise\u001b[39;00m RemoteDisconnected(\u001b[38;5;124m\"\u001b[39m\u001b[38;5;124mRemote end closed connection without\u001b[39m\u001b[38;5;124m\"\u001b[39m\n\u001b[1;32m    295\u001b[0m                              \u001b[38;5;124m\"\u001b[39m\u001b[38;5;124m response\u001b[39m\u001b[38;5;124m\"\u001b[39m)\n\u001b[1;32m    296\u001b[0m \u001b[38;5;28;01mtry\u001b[39;00m:\n",
      "\u001b[0;31mProtocolError\u001b[0m: ('Connection aborted.', RemoteDisconnected('Remote end closed connection without response'))",
      "\nDuring handling of the above exception, another exception occurred:\n",
      "\u001b[0;31mConnectionError\u001b[0m                           Traceback (most recent call last)",
      "Cell \u001b[0;32mIn[7], line 19\u001b[0m\n\u001b[1;32m      7\u001b[0m img_firepoint \u001b[38;5;241m=\u001b[39m dataset_firepoint\u001b[38;5;241m.\u001b[39mselect([\u001b[38;5;124m'\u001b[39m\u001b[38;5;124mBurnDate\u001b[39m\u001b[38;5;124m'\u001b[39m])\u001b[38;5;241m.\u001b[39mOr() \\\n\u001b[1;32m      8\u001b[0m                             \u001b[38;5;241m.\u001b[39mmask() \\\n\u001b[1;32m      9\u001b[0m                             \u001b[38;5;241m.\u001b[39mclip(union_geometry) \\\n\u001b[1;32m     10\u001b[0m                             \u001b[38;5;241m.\u001b[39mrename([\u001b[38;5;124m\"\u001b[39m\u001b[38;5;124mfirepoint\u001b[39m\u001b[38;5;124m\"\u001b[39m])\n\u001b[1;32m     13\u001b[0m vis_params \u001b[38;5;241m=\u001b[39m {\n\u001b[1;32m     14\u001b[0m     \u001b[38;5;124m'\u001b[39m\u001b[38;5;124mpalette\u001b[39m\u001b[38;5;124m'\u001b[39m: [\u001b[38;5;124m\"\u001b[39m\u001b[38;5;124m0,0,0\u001b[39m\u001b[38;5;124m\"\u001b[39m,\u001b[38;5;124m\"\u001b[39m\u001b[38;5;124m255,0,0\u001b[39m\u001b[38;5;124m\"\u001b[39m],\n\u001b[1;32m     15\u001b[0m     \u001b[38;5;124m'\u001b[39m\u001b[38;5;124mmin\u001b[39m\u001b[38;5;124m'\u001b[39m: \u001b[38;5;241m0\u001b[39m,\n\u001b[1;32m     16\u001b[0m     \u001b[38;5;124m'\u001b[39m\u001b[38;5;124mmax\u001b[39m\u001b[38;5;124m'\u001b[39m: \u001b[38;5;241m1\u001b[39m,\n\u001b[1;32m     17\u001b[0m }\n\u001b[0;32m---> 19\u001b[0m \u001b[43madd_img\u001b[49m\u001b[43m(\u001b[49m\u001b[43mimg_firepoint\u001b[49m\u001b[43m,\u001b[49m\u001b[43m \u001b[49m\u001b[38;5;28;43mmap\u001b[39;49m\u001b[43m,\u001b[49m\u001b[43m \u001b[49m\u001b[43mvis_params\u001b[49m\u001b[43m)\u001b[49m\n",
      "Cell \u001b[0;32mIn[5], line 65\u001b[0m, in \u001b[0;36madd_img\u001b[0;34m(img_target, map, vis_params)\u001b[0m\n\u001b[1;32m     57\u001b[0m \u001b[38;5;28mmap\u001b[39m\u001b[38;5;241m.\u001b[39maddLayer(\n\u001b[1;32m     58\u001b[0m     img_target,\n\u001b[1;32m     59\u001b[0m     vis_params,\n\u001b[1;32m     60\u001b[0m     name,\n\u001b[1;32m     61\u001b[0m     bounds\u001b[38;5;241m=\u001b[39munion_fc\u001b[38;5;241m.\u001b[39mgetBounds()\n\u001b[1;32m     62\u001b[0m )\n\u001b[1;32m     64\u001b[0m \u001b[38;5;28;01mif\u001b[39;00m save_img:\n\u001b[0;32m---> 65\u001b[0m     \u001b[43msave\u001b[49m\u001b[43m(\u001b[49m\u001b[43mimg_target\u001b[49m\u001b[43m,\u001b[49m\u001b[43m \u001b[49m\u001b[43mname\u001b[49m\u001b[43m)\u001b[49m    \n\u001b[1;32m     67\u001b[0m img_all[name] \u001b[38;5;241m=\u001b[39m img_target\n",
      "Cell \u001b[0;32mIn[5], line 32\u001b[0m, in \u001b[0;36msave\u001b[0;34m(img_target, filename)\u001b[0m\n\u001b[1;32m     30\u001b[0m reducer \u001b[38;5;241m=\u001b[39m aie\u001b[38;5;241m.\u001b[39mReducer\u001b[38;5;241m.\u001b[39mmin()\n\u001b[1;32m     31\u001b[0m result \u001b[38;5;241m=\u001b[39m img_target\u001b[38;5;241m.\u001b[39mpixelArea()\u001b[38;5;241m.\u001b[39mreduceRegion(reducer, union_geometry)\n\u001b[0;32m---> 32\u001b[0m area \u001b[38;5;241m=\u001b[39m sqrt(\u001b[43mresult\u001b[49m\u001b[38;5;241;43m.\u001b[39;49m\u001b[43mgetInfo\u001b[49m\u001b[43m(\u001b[49m\u001b[43m)\u001b[49m[\u001b[38;5;124m'\u001b[39m\u001b[38;5;124marea_min\u001b[39m\u001b[38;5;124m'\u001b[39m])\n\u001b[1;32m     34\u001b[0m name \u001b[38;5;241m=\u001b[39m img_target\u001b[38;5;241m.\u001b[39mbandNames()\u001b[38;5;241m.\u001b[39mgetInfo()[\u001b[38;5;241m0\u001b[39m]\n\u001b[1;32m     35\u001b[0m \u001b[38;5;28mprint\u001b[39m(name \u001b[38;5;241m+\u001b[39m \u001b[38;5;124m\"\u001b[39m\u001b[38;5;124m:\u001b[39m\u001b[38;5;124m\"\u001b[39m \u001b[38;5;241m+\u001b[39m \u001b[38;5;28mstr\u001b[39m(area))\n",
      "File \u001b[0;32m~/.conda/envs/hydro/envs/aie-sdk/lib/python3.11/site-packages/aiearth/engine/function_node.py:18\u001b[0m, in \u001b[0;36mFunctionNode.getInfo\u001b[0;34m(self)\u001b[0m\n\u001b[1;32m     17\u001b[0m \u001b[38;5;28;01mdef\u001b[39;00m \u001b[38;5;21mgetInfo\u001b[39m(\u001b[38;5;28mself\u001b[39m):\n\u001b[0;32m---> 18\u001b[0m     \u001b[38;5;28;01mreturn\u001b[39;00m \u001b[43mInteractiveSession\u001b[49m\u001b[38;5;241;43m.\u001b[39;49m\u001b[43mgetInfo\u001b[49m\u001b[43m(\u001b[49m\u001b[38;5;28;43mself\u001b[39;49m\u001b[43m)\u001b[49m\n",
      "File \u001b[0;32m~/.conda/envs/hydro/envs/aie-sdk/lib/python3.11/site-packages/aiearth/engine/client/interactive_session.py:147\u001b[0m, in \u001b[0;36mInteractiveSession.getInfo\u001b[0;34m(obj)\u001b[0m\n\u001b[1;32m    139\u001b[0m data \u001b[38;5;241m=\u001b[39m {\n\u001b[1;32m    140\u001b[0m     \u001b[38;5;124m\"\u001b[39m\u001b[38;5;124mtaskId\u001b[39m\u001b[38;5;124m\"\u001b[39m: task_id,\n\u001b[1;32m    141\u001b[0m     \u001b[38;5;124m\"\u001b[39m\u001b[38;5;124msessionId\u001b[39m\u001b[38;5;124m\"\u001b[39m: InteractiveSession\u001b[38;5;241m.\u001b[39mgetCurrentSessionId(),\n\u001b[1;32m    142\u001b[0m     \u001b[38;5;124m\"\u001b[39m\u001b[38;5;124mscript\u001b[39m\u001b[38;5;124m\"\u001b[39m: \u001b[38;5;124m\"\u001b[39m\u001b[38;5;124m{\u001b[39m\u001b[38;5;130;01m\\\"\u001b[39;00m\u001b[38;5;124mexpression\u001b[39m\u001b[38;5;130;01m\\\"\u001b[39;00m\u001b[38;5;124m:\u001b[39m\u001b[38;5;124m\"\u001b[39m \u001b[38;5;241m+\u001b[39m expr \u001b[38;5;241m+\u001b[39m \u001b[38;5;124m\"\u001b[39m\u001b[38;5;124m}\u001b[39m\u001b[38;5;124m\"\u001b[39m,\n\u001b[1;32m    143\u001b[0m     \u001b[38;5;124m\"\u001b[39m\u001b[38;5;124moptions\u001b[39m\u001b[38;5;124m\"\u001b[39m: json\u001b[38;5;241m.\u001b[39mdumps(options)\n\u001b[1;32m    144\u001b[0m }\n\u001b[1;32m    146\u001b[0m url \u001b[38;5;241m=\u001b[39m Endpoints\u001b[38;5;241m.\u001b[39mINTERACTIVE_SESSION \u001b[38;5;241m+\u001b[39m InteractiveSessionResource\u001b[38;5;241m.\u001b[39mEXEC\n\u001b[0;32m--> 147\u001b[0m payload \u001b[38;5;241m=\u001b[39m \u001b[43mInteractiveSessionClient\u001b[49m\u001b[38;5;241;43m.\u001b[39;49m\u001b[43mpost\u001b[49m\u001b[43m(\u001b[49m\u001b[43murl\u001b[49m\u001b[43m,\u001b[49m\u001b[43m \u001b[49m\u001b[43mdata\u001b[49m\u001b[43m)\u001b[49m\n\u001b[1;32m    149\u001b[0m \u001b[38;5;66;03m# print(\"payload\", json.dumps(payload))\u001b[39;00m\n\u001b[1;32m    151\u001b[0m \u001b[38;5;28;01mif\u001b[39;00m payload[\u001b[38;5;124m\"\u001b[39m\u001b[38;5;124mstate\u001b[39m\u001b[38;5;124m\"\u001b[39m] \u001b[38;5;241m==\u001b[39m \u001b[38;5;124m\"\u001b[39m\u001b[38;5;124mcancelled\u001b[39m\u001b[38;5;124m\"\u001b[39m:\n",
      "File \u001b[0;32m~/.conda/envs/hydro/envs/aie-sdk/lib/python3.11/site-packages/aiearth/engine/client/interactive_session.py:20\u001b[0m, in \u001b[0;36mInteractiveSessionClient.post\u001b[0;34m(url, reqeust_data, append_extra_hdrs)\u001b[0m\n\u001b[1;32m     16\u001b[0m \u001b[38;5;129m@staticmethod\u001b[39m\n\u001b[1;32m     17\u001b[0m \u001b[38;5;28;01mdef\u001b[39;00m \u001b[38;5;21mpost\u001b[39m(url, reqeust_data, append_extra_hdrs\u001b[38;5;241m=\u001b[39m\u001b[38;5;28;01mTrue\u001b[39;00m):\n\u001b[1;32m     18\u001b[0m     headers \u001b[38;5;241m=\u001b[39m {\u001b[38;5;124m\"\u001b[39m\u001b[38;5;124mContent-Type\u001b[39m\u001b[38;5;124m\"\u001b[39m: \u001b[38;5;124m\"\u001b[39m\u001b[38;5;124mapplication/json\u001b[39m\u001b[38;5;124m\"\u001b[39m}\n\u001b[1;32m     19\u001b[0m     resp \u001b[38;5;241m=\u001b[39m \u001b[38;5;28;43msuper\u001b[39;49m\u001b[43m(\u001b[49m\u001b[43mInteractiveSessionClient\u001b[49m\u001b[43m,\u001b[49m\n\u001b[0;32m---> 20\u001b[0m \u001b[43m                 \u001b[49m\u001b[43mInteractiveSessionClient\u001b[49m\u001b[43m)\u001b[49m\u001b[38;5;241;43m.\u001b[39;49m\u001b[43mpost\u001b[49m\u001b[43m(\u001b[49m\u001b[43murl\u001b[49m\u001b[43m,\u001b[49m\u001b[43m \u001b[49m\u001b[43mheaders\u001b[49m\u001b[43m,\u001b[49m\u001b[43m \u001b[49m\u001b[43mreqeust_data\u001b[49m\u001b[43m,\u001b[49m\u001b[43m \u001b[49m\u001b[43mappend_extra_hdrs\u001b[49m\u001b[43m)\u001b[49m\n\u001b[1;32m     21\u001b[0m     response_data \u001b[38;5;241m=\u001b[39m resp\u001b[38;5;241m.\u001b[39mjson()\n\u001b[1;32m     23\u001b[0m     \u001b[38;5;28;01mif\u001b[39;00m \u001b[38;5;124m\"\u001b[39m\u001b[38;5;124mcode\u001b[39m\u001b[38;5;124m\"\u001b[39m \u001b[38;5;129;01min\u001b[39;00m response_data \u001b[38;5;129;01mand\u001b[39;00m response_data[\u001b[38;5;124m\"\u001b[39m\u001b[38;5;124mcode\u001b[39m\u001b[38;5;124m\"\u001b[39m] \u001b[38;5;241m==\u001b[39m InteractiveSessionClient\u001b[38;5;241m.\u001b[39mResponseCode\u001b[38;5;241m.\u001b[39mOK:\n",
      "File \u001b[0;32m~/.conda/envs/hydro/envs/aie-sdk/lib/python3.11/site-packages/aiearth/core/client/client.py:36\u001b[0m, in \u001b[0;36mBaseClient.post\u001b[0;34m(url, hdrs, data, append_extra_hdrs)\u001b[0m\n\u001b[1;32m     32\u001b[0m \u001b[38;5;28;01mif\u001b[39;00m env\u001b[38;5;241m.\u001b[39mget_log_level() \u001b[38;5;241m==\u001b[39m g_var\u001b[38;5;241m.\u001b[39mLogLevel\u001b[38;5;241m.\u001b[39mDEBUG_LEVEL:\n\u001b[1;32m     33\u001b[0m     \u001b[38;5;28mprint\u001b[39m(\n\u001b[1;32m     34\u001b[0m         \u001b[38;5;124mf\u001b[39m\u001b[38;5;124m\"\u001b[39m\u001b[38;5;124mBaseClient::post request. url: \u001b[39m\u001b[38;5;132;01m{\u001b[39;00murl\u001b[38;5;132;01m}\u001b[39;00m\u001b[38;5;124m, headers: \u001b[39m\u001b[38;5;132;01m{\u001b[39;00mjson\u001b[38;5;241m.\u001b[39mdumps(hdrs)\u001b[38;5;132;01m}\u001b[39;00m\u001b[38;5;124m, data: \u001b[39m\u001b[38;5;132;01m{\u001b[39;00mjson\u001b[38;5;241m.\u001b[39mdumps(data)\u001b[38;5;132;01m}\u001b[39;00m\u001b[38;5;124m\"\u001b[39m)\n\u001b[0;32m---> 36\u001b[0m resp \u001b[38;5;241m=\u001b[39m \u001b[43mrequests\u001b[49m\u001b[38;5;241;43m.\u001b[39;49m\u001b[43mpost\u001b[49m\u001b[43m(\u001b[49m\u001b[43murl\u001b[49m\u001b[38;5;241;43m=\u001b[39;49m\u001b[43murl\u001b[49m\u001b[43m,\u001b[49m\u001b[43m \u001b[49m\u001b[43mheaders\u001b[49m\u001b[38;5;241;43m=\u001b[39;49m\u001b[43mhdrs\u001b[49m\u001b[43m,\u001b[49m\u001b[43m \u001b[49m\u001b[43mtimeout\u001b[49m\u001b[38;5;241;43m=\u001b[39;49m\u001b[43m(\u001b[49m\u001b[38;5;241;43m600\u001b[39;49m\u001b[43m,\u001b[49m\u001b[43m \u001b[49m\u001b[38;5;241;43m600\u001b[39;49m\u001b[43m)\u001b[49m\u001b[43m,\u001b[49m\n\u001b[1;32m     37\u001b[0m \u001b[43m                     \u001b[49m\u001b[43mjson\u001b[49m\u001b[38;5;241;43m=\u001b[39;49m\u001b[43mdata\u001b[49m\u001b[43m,\u001b[49m\u001b[43m \u001b[49m\u001b[43mverify\u001b[49m\u001b[38;5;241;43m=\u001b[39;49m\u001b[38;5;28;43;01mFalse\u001b[39;49;00m\u001b[43m)\u001b[49m\n\u001b[1;32m     39\u001b[0m \u001b[38;5;28;01mif\u001b[39;00m resp\u001b[38;5;241m.\u001b[39mstatus_code \u001b[38;5;241m!=\u001b[39m \u001b[38;5;241m200\u001b[39m:\n\u001b[1;32m     40\u001b[0m     \u001b[38;5;28;01mif\u001b[39;00m \u001b[38;5;124m\"\u001b[39m\u001b[38;5;124m401 Authorization Required\u001b[39m\u001b[38;5;124m\"\u001b[39m \u001b[38;5;129;01min\u001b[39;00m resp\u001b[38;5;241m.\u001b[39mtext:\n",
      "File \u001b[0;32m~/.conda/envs/hydro/envs/aie-sdk/lib/python3.11/site-packages/requests/api.py:115\u001b[0m, in \u001b[0;36mpost\u001b[0;34m(url, data, json, **kwargs)\u001b[0m\n\u001b[1;32m    103\u001b[0m \u001b[38;5;28;01mdef\u001b[39;00m \u001b[38;5;21mpost\u001b[39m(url, data\u001b[38;5;241m=\u001b[39m\u001b[38;5;28;01mNone\u001b[39;00m, json\u001b[38;5;241m=\u001b[39m\u001b[38;5;28;01mNone\u001b[39;00m, \u001b[38;5;241m*\u001b[39m\u001b[38;5;241m*\u001b[39mkwargs):\n\u001b[1;32m    104\u001b[0m \u001b[38;5;250m    \u001b[39m\u001b[38;5;124mr\u001b[39m\u001b[38;5;124;03m\"\"\"Sends a POST request.\u001b[39;00m\n\u001b[1;32m    105\u001b[0m \n\u001b[1;32m    106\u001b[0m \u001b[38;5;124;03m    :param url: URL for the new :class:`Request` object.\u001b[39;00m\n\u001b[0;32m   (...)\u001b[0m\n\u001b[1;32m    112\u001b[0m \u001b[38;5;124;03m    :rtype: requests.Response\u001b[39;00m\n\u001b[1;32m    113\u001b[0m \u001b[38;5;124;03m    \"\"\"\u001b[39;00m\n\u001b[0;32m--> 115\u001b[0m     \u001b[38;5;28;01mreturn\u001b[39;00m \u001b[43mrequest\u001b[49m\u001b[43m(\u001b[49m\u001b[38;5;124;43m\"\u001b[39;49m\u001b[38;5;124;43mpost\u001b[39;49m\u001b[38;5;124;43m\"\u001b[39;49m\u001b[43m,\u001b[49m\u001b[43m \u001b[49m\u001b[43murl\u001b[49m\u001b[43m,\u001b[49m\u001b[43m \u001b[49m\u001b[43mdata\u001b[49m\u001b[38;5;241;43m=\u001b[39;49m\u001b[43mdata\u001b[49m\u001b[43m,\u001b[49m\u001b[43m \u001b[49m\u001b[43mjson\u001b[49m\u001b[38;5;241;43m=\u001b[39;49m\u001b[43mjson\u001b[49m\u001b[43m,\u001b[49m\u001b[43m \u001b[49m\u001b[38;5;241;43m*\u001b[39;49m\u001b[38;5;241;43m*\u001b[39;49m\u001b[43mkwargs\u001b[49m\u001b[43m)\u001b[49m\n",
      "File \u001b[0;32m~/.conda/envs/hydro/envs/aie-sdk/lib/python3.11/site-packages/requests/api.py:59\u001b[0m, in \u001b[0;36mrequest\u001b[0;34m(method, url, **kwargs)\u001b[0m\n\u001b[1;32m     55\u001b[0m \u001b[38;5;66;03m# By using the 'with' statement we are sure the session is closed, thus we\u001b[39;00m\n\u001b[1;32m     56\u001b[0m \u001b[38;5;66;03m# avoid leaving sockets open which can trigger a ResourceWarning in some\u001b[39;00m\n\u001b[1;32m     57\u001b[0m \u001b[38;5;66;03m# cases, and look like a memory leak in others.\u001b[39;00m\n\u001b[1;32m     58\u001b[0m \u001b[38;5;28;01mwith\u001b[39;00m sessions\u001b[38;5;241m.\u001b[39mSession() \u001b[38;5;28;01mas\u001b[39;00m session:\n\u001b[0;32m---> 59\u001b[0m     \u001b[38;5;28;01mreturn\u001b[39;00m \u001b[43msession\u001b[49m\u001b[38;5;241;43m.\u001b[39;49m\u001b[43mrequest\u001b[49m\u001b[43m(\u001b[49m\u001b[43mmethod\u001b[49m\u001b[38;5;241;43m=\u001b[39;49m\u001b[43mmethod\u001b[49m\u001b[43m,\u001b[49m\u001b[43m \u001b[49m\u001b[43murl\u001b[49m\u001b[38;5;241;43m=\u001b[39;49m\u001b[43murl\u001b[49m\u001b[43m,\u001b[49m\u001b[43m \u001b[49m\u001b[38;5;241;43m*\u001b[39;49m\u001b[38;5;241;43m*\u001b[39;49m\u001b[43mkwargs\u001b[49m\u001b[43m)\u001b[49m\n",
      "File \u001b[0;32m~/.conda/envs/hydro/envs/aie-sdk/lib/python3.11/site-packages/requests/sessions.py:589\u001b[0m, in \u001b[0;36mSession.request\u001b[0;34m(self, method, url, params, data, headers, cookies, files, auth, timeout, allow_redirects, proxies, hooks, stream, verify, cert, json)\u001b[0m\n\u001b[1;32m    584\u001b[0m send_kwargs \u001b[38;5;241m=\u001b[39m {\n\u001b[1;32m    585\u001b[0m     \u001b[38;5;124m\"\u001b[39m\u001b[38;5;124mtimeout\u001b[39m\u001b[38;5;124m\"\u001b[39m: timeout,\n\u001b[1;32m    586\u001b[0m     \u001b[38;5;124m\"\u001b[39m\u001b[38;5;124mallow_redirects\u001b[39m\u001b[38;5;124m\"\u001b[39m: allow_redirects,\n\u001b[1;32m    587\u001b[0m }\n\u001b[1;32m    588\u001b[0m send_kwargs\u001b[38;5;241m.\u001b[39mupdate(settings)\n\u001b[0;32m--> 589\u001b[0m resp \u001b[38;5;241m=\u001b[39m \u001b[38;5;28;43mself\u001b[39;49m\u001b[38;5;241;43m.\u001b[39;49m\u001b[43msend\u001b[49m\u001b[43m(\u001b[49m\u001b[43mprep\u001b[49m\u001b[43m,\u001b[49m\u001b[43m \u001b[49m\u001b[38;5;241;43m*\u001b[39;49m\u001b[38;5;241;43m*\u001b[39;49m\u001b[43msend_kwargs\u001b[49m\u001b[43m)\u001b[49m\n\u001b[1;32m    591\u001b[0m \u001b[38;5;28;01mreturn\u001b[39;00m resp\n",
      "File \u001b[0;32m~/.conda/envs/hydro/envs/aie-sdk/lib/python3.11/site-packages/requests/sessions.py:703\u001b[0m, in \u001b[0;36mSession.send\u001b[0;34m(self, request, **kwargs)\u001b[0m\n\u001b[1;32m    700\u001b[0m start \u001b[38;5;241m=\u001b[39m preferred_clock()\n\u001b[1;32m    702\u001b[0m \u001b[38;5;66;03m# Send the request\u001b[39;00m\n\u001b[0;32m--> 703\u001b[0m r \u001b[38;5;241m=\u001b[39m \u001b[43madapter\u001b[49m\u001b[38;5;241;43m.\u001b[39;49m\u001b[43msend\u001b[49m\u001b[43m(\u001b[49m\u001b[43mrequest\u001b[49m\u001b[43m,\u001b[49m\u001b[43m \u001b[49m\u001b[38;5;241;43m*\u001b[39;49m\u001b[38;5;241;43m*\u001b[39;49m\u001b[43mkwargs\u001b[49m\u001b[43m)\u001b[49m\n\u001b[1;32m    705\u001b[0m \u001b[38;5;66;03m# Total elapsed time of the request (approximately)\u001b[39;00m\n\u001b[1;32m    706\u001b[0m elapsed \u001b[38;5;241m=\u001b[39m preferred_clock() \u001b[38;5;241m-\u001b[39m start\n",
      "File \u001b[0;32m~/.conda/envs/hydro/envs/aie-sdk/lib/python3.11/site-packages/requests/adapters.py:501\u001b[0m, in \u001b[0;36mHTTPAdapter.send\u001b[0;34m(self, request, stream, timeout, verify, cert, proxies)\u001b[0m\n\u001b[1;32m    486\u001b[0m     resp \u001b[38;5;241m=\u001b[39m conn\u001b[38;5;241m.\u001b[39murlopen(\n\u001b[1;32m    487\u001b[0m         method\u001b[38;5;241m=\u001b[39mrequest\u001b[38;5;241m.\u001b[39mmethod,\n\u001b[1;32m    488\u001b[0m         url\u001b[38;5;241m=\u001b[39murl,\n\u001b[0;32m   (...)\u001b[0m\n\u001b[1;32m    497\u001b[0m         chunked\u001b[38;5;241m=\u001b[39mchunked,\n\u001b[1;32m    498\u001b[0m     )\n\u001b[1;32m    500\u001b[0m \u001b[38;5;28;01mexcept\u001b[39;00m (ProtocolError, \u001b[38;5;167;01mOSError\u001b[39;00m) \u001b[38;5;28;01mas\u001b[39;00m err:\n\u001b[0;32m--> 501\u001b[0m     \u001b[38;5;28;01mraise\u001b[39;00m \u001b[38;5;167;01mConnectionError\u001b[39;00m(err, request\u001b[38;5;241m=\u001b[39mrequest)\n\u001b[1;32m    503\u001b[0m \u001b[38;5;28;01mexcept\u001b[39;00m MaxRetryError \u001b[38;5;28;01mas\u001b[39;00m e:\n\u001b[1;32m    504\u001b[0m     \u001b[38;5;28;01mif\u001b[39;00m \u001b[38;5;28misinstance\u001b[39m(e\u001b[38;5;241m.\u001b[39mreason, ConnectTimeoutError):\n\u001b[1;32m    505\u001b[0m         \u001b[38;5;66;03m# TODO: Remove this in 3.0.0: see #2811\u001b[39;00m\n",
      "\u001b[0;31mConnectionError\u001b[0m: ('Connection aborted.', RemoteDisconnected('Remote end closed connection without response'))"
     ]
    }
   ],
   "source": [
    "# 月度火烧迹地产品（MCD64A1 v006）\n",
    "# https://engine-aiearth.aliyun.com/#/dataset/MODIS_MCD64A1_006\n",
    "\n",
    "dataset_firepoint = aie.ImageCollection('MODIS_MCD64A1_006') \\\n",
    "\n",
    "# 用or运算提取所有火点\n",
    "img_firepoint = dataset_firepoint.select(['BurnDate']).Or() \\\n",
    "                            .mask() \\\n",
    "                            .clip(union_geometry) \\\n",
    "                            .rename([\"firepoint\"])\n",
    "\n",
    "\n",
    "vis_params = {\n",
    "    'palette': [\"0,0,0\",\"255,0,0\"],\n",
    "    'min': 0,\n",
    "    'max': 1,\n",
    "}\n",
    "\n",
    "add_img(img_firepoint, map, vis_params)"
   ]
  },
  {
   "cell_type": "code",
   "execution_count": null,
   "id": "8e5939b6",
   "metadata": {
    "trusted": true
   },
   "outputs": [],
   "source": [
    "# DEM\n",
    "# https://engine-aiearth.aliyun.com/#/dataset/Copernicus_DEM_30M\n",
    "dataset_DEM = aie.ImageCollection('Copernicus_DEM_30M') \\\n",
    "            .filterBounds(union_fc) \\\n",
    "            .select(['elevation'])\n",
    "\n",
    "img_DEM = dataset_DEM.mosaic().clip(union_geometry)\n",
    "add_img(img_DEM, map, vis_params)\n",
    "\n",
    "# 坡度和坡向\n",
    "img_slope = aie.Terrain.slope(img_DEM).rename([\"slope\"])\n",
    "add_img(img_slope, map, vis_params)\n",
    "img_aspect = aie.Terrain.aspect(img_DEM).rename([\"aspect\"])\n",
    "add_img(img_aspect, map, vis_params)\n",
    "map"
   ]
  },
  {
   "cell_type": "code",
   "execution_count": null,
   "id": "6ab786b8",
   "metadata": {
    "trusted": true
   },
   "outputs": [],
   "source": [
    "# 中国逐年土地覆盖数据集（CLCD）\n",
    "# https://engine-aiearth.aliyun.com/#/dataset/ESA_WORLD_COVER_V200\n",
    "\n",
    "clcd_dataset = aie.ImageCollection('CHINA_CLCD_V01_WHU_IRSIP') \\\n",
    "                .filterBounds(union_geometry) \\\n",
    "                .filterDate('2021-01-01', '2021-12-31')\n",
    "\n",
    "\n",
    "img_clcd = clcd_dataset.mosaic() \\\n",
    "                        .clip(union_geometry) \\\n",
    "                        .select(['Map']) \\\n",
    "                        .rename([\"clcd\"])\n",
    "\n",
    "vis_params = {\n",
    "    'min': 1,\n",
    "    'max': 9,\n",
    "    'palette': [\n",
    "        '#fae39c','#446f33','#33a02c','#abd37b',\n",
    "        '#1e69b4','#a6cee3','#cfbda3','#e24290',\n",
    "        '#289be8'\n",
    "    ]\n",
    "}\n",
    "\n",
    "add_img(img_clcd, map, vis_params)\n",
    "map"
   ]
  },
  {
   "cell_type": "code",
   "execution_count": null,
   "id": "e58ee406",
   "metadata": {
    "trusted": true
   },
   "outputs": [],
   "source": [
    "dataset_ndvi = aie.ImageCollection('MODIS_MOD13Q1_061') \\\n",
    "             .filterDate('2021-01-01', '2021-12-31') \\\n",
    "             .select(['NDVI']) \n",
    "\n",
    "img_ndvi = dataset_ndvi.mean() \\\n",
    "                        .clip(union_geometry) \\\n",
    "                        .rename([\"NDVI\"])\n",
    "\n",
    "\n",
    "vis_params = {\n",
    "    'palette': [ \n",
    "        '#FFFFFF', '#CE7E45', '#DF923D', '#F1B555', '#FCD163', '#99B718',\n",
    "        '#74A901', '#66A000', '#529400', '#3E8601', '#207401', '#056201',\n",
    "        '#004C00', '#023B01', '#012E01', '#011D01', '#011301'\n",
    "    ]\n",
    "}\n",
    "\n",
    "add_img(img_ndvi, map, vis_params)\n",
    "map"
   ]
  },
  {
   "cell_type": "code",
   "execution_count": null,
   "id": "5861833d",
   "metadata": {
    "trusted": true
   },
   "outputs": [],
   "source": [
    "# ERA5-Land monthly averaged data\n",
    "# https://engine-aiearth.aliyun.com/#/dataset/ERA5_LAND_MONTHLY\n",
    "# 月度生物气候变量\n",
    "\n",
    "dataset_Bioclimatic = aie.ImageCollection('ERA5_LAND_MONTHLY') \\\n",
    "                        .filterDate('2021-01-01', '2021-12-31') \\\n",
    "                        .filterBounds(union_fc)\n",
    "\n",
    "# 平均2m温度             \n",
    "dataset_avg_temp = dataset_Bioclimatic.select(['temperature_2m'])\n",
    "img_avg_temp = dataset_avg_temp.mean().clip(union_geometry).rename([\"avg_temp\"])\n",
    "# 平均地表温度\n",
    "dataset_skin_avg_temp = dataset_Bioclimatic.select(['skin_temperature'])\n",
    "img_skin_avg_temp = dataset_skin_avg_temp.mean().clip(union_geometry).rename([\"skin_avg_temp\"])\n",
    "# 平均气压\n",
    "dataset_surface_pressure = dataset_Bioclimatic.select(['surface_pressure'])\n",
    "img_surface_pressure = dataset_surface_pressure.mean().clip(union_geometry).rename([\"surface_pressure\"])\n",
    "# 年降水量\n",
    "dataset_precipitation = dataset_Bioclimatic.select(['total_precipitation'])\n",
    "img_precipitation = dataset_precipitation.sum().clip(union_geometry).rename([\"precipitation\"])\n",
    "# 年蒸发量\n",
    "dataset_evaporation = dataset_Bioclimatic.select(['total_evaporation'])\n",
    "img_evaporation = dataset_evaporation.sum().clip(union_geometry).rename([\"evaporation\"])\n",
    "\n",
    "\n",
    "add_img(img_avg_temp, map, vis_params)\n",
    "add_img(img_skin_avg_temp, map, vis_params)\n",
    "add_img(img_surface_pressure, map, vis_params)\n",
    "add_img(img_precipitation, map, vis_params)\n",
    "add_img(img_evaporation, map, vis_params)"
   ]
  },
  {
   "cell_type": "code",
   "execution_count": null,
   "id": "af699561",
   "metadata": {
    "trusted": true
   },
   "outputs": [],
   "source": [
    "# WET\n",
    "# 湿度指标\n",
    "dataset = aie.ImageCollection('LANDSAT_LC09_C02_T1_L1') \\\n",
    "             .filterBounds(union_fc) \\\n",
    "             .filterDate('2021-01-01', '2022-12-31') \\\n",
    "             # .filter(aie.Filter.lte('eo:cloud_cover', 30.0))\n",
    "\n",
    "# 去云算法\n",
    "# https://engine-aiearth.aliyun.com/docs/page/case?d=6cf4e8\n",
    "def removeLandsatCloud(image):\n",
    "    # cloudShadowBitMask = (1 << 4)\n",
    "    cloudsBitMask = (1 << 3)\n",
    "    qa = image.select('QA_PIXEL')\n",
    "    mask = qa.bitwiseAnd(aie.Image(cloudsBitMask)).eq(aie.Image(0))\n",
    "    return image.updateMask(mask)\n",
    "\n",
    "# def applyScaleFactors(image):\n",
    "#     opticalBands = image.select('SR_B.').multiply(aie.Image(0.0000275)).add(aie.Image(-0.2))\n",
    "#     thermalBands = image.select('ST_B.*').multiply(aie.Image(0.00341802)).add(aie.Image(149.0))\n",
    "#     return image.addBands(opticalBands, None, True).addBands(thermalBands, None, True)\n",
    "\n",
    "# images_no_cloud = dataset.map(removeLandsatCloud).map(applyScaleFactors)\n",
    "images_no_cloud = dataset.map(removeLandsatCloud)\n",
    "\n",
    "image_L9C2L2 = images_no_cloud.mosaic().clip(union_geometry)\n",
    "\n",
    "# WET = 0.1511 B1 + 0.1973 B2 + 0.3283 B3 + 0.3407 B4 - 0.7171 B5 - 0.4559 B6\n",
    "# http://www.yndxxb.ynu.edu.cn/yndxxbzrkxb/article/doi/10.7540/j.ynu.20190174?viewType=HTML\n",
    "# https://zhuanlan.zhihu.com/p/479851365\n",
    "\n",
    "# L9C2L1\n",
    "img_wet_tmp = image_L9C2L2.select('B2').multiply(aie.Image(0.1511)) \\\n",
    "    .add(image_L9C2L2.select('B3').multiply(aie.Image(0.1973))) \\\n",
    "    .add(image_L9C2L2.select('B4').multiply(aie.Image(0.3283))) \\\n",
    "    .add(image_L9C2L2.select('B5').multiply(aie.Image(0.3407))) \\\n",
    "    .add(image_L9C2L2.select('B6').multiply(aie.Image(0.7171))) \\\n",
    "    .add(image_L9C2L2.select('B7').multiply(aie.Image(0.4559))) \\\n",
    "    .rename([\"wet\"])\n",
    "\n",
    "img_wet = fix_with_mean(img_wet_tmp)\n",
    "\n",
    "img_wet = img_wet_tmp.clip(union_geometry)\n",
    "\n",
    "vis_params = {\n",
    "    'palette': [ \n",
    "        '255,255,0', '0,0,255',\n",
    "    ]\n",
    "}\n",
    "\n",
    "add_img(img_wet, map, vis_params)"
   ]
  },
  {
   "cell_type": "code",
   "execution_count": null,
   "id": "8adc9d1b-0ad1-4259-919f-2f2602c82923",
   "metadata": {
    "trusted": true
   },
   "outputs": [],
   "source": [
    "# WorldPop Estimated Residential Population\n",
    "# https://engine-aiearth.aliyun.com/#/dataset/WORLDPOP_GP_100M_POP\n",
    "\n",
    "dataset_pop = aie.ImageCollection('WORLDPOP_GP_100M_POP') \\\n",
    "                .filterDate('2021-01-01','2021-12-31') \\\n",
    "                .filterBounds(union_geometry) \\\n",
    "                .select(['population'])\n",
    "\n",
    "\n",
    "img_pop = dataset_pop.mosaic().clip(union_geometry)\n",
    "\n",
    "vis_params = {\n",
    "      'palette': ['#24126c', '#1fff4f', '#d4ff50']\n",
    "}\n",
    "\n",
    "add_img(img_pop, map, vis_params)"
   ]
  },
  {
   "cell_type": "code",
   "execution_count": null,
   "id": "346d9554-af8c-4cbd-9f51-12cdf34f95a8",
   "metadata": {
    "trusted": true
   },
   "outputs": [],
   "source": [
    "# OpenLandMap Soil Texture Class\n",
    "# https://engine-aiearth.aliyun.com/#/dataset/OPENLANDMAP_SOL_SOL_TEXTURE-CLASS_USDA-TT_M_V02\n",
    "\n",
    "img_soil = aie.Image('OPENLANDMAP_SOL_SOL_TEXTURE-CLASS_USDA-TT_M_V02')\n",
    "\n",
    "img_soil = img_soil.select(['b0']).clip(union_geometry).rename([\"soil\"])\n",
    "\n",
    "vis_params = {\n",
    "    'bands': 'soil',\n",
    "    'min': 1.0,\n",
    "    'max': 12.0,\n",
    "    'palette': [\n",
    "        \"#d5c36b\",\"#b96947\",\"#9d3706\",\"#ae868f\",\"#f86714\",\"#46d143\",\n",
    "        \"#368f20\",\"#3e5a14\",\"#ffd557\",\"#fff72e\",\"#ff5a9d\",\"#ff005b\",\n",
    "  ]\n",
    "}\n",
    "\n",
    "add_img(img_soil, map, vis_params)"
   ]
  },
  {
   "cell_type": "markdown",
   "id": "c381f9ee",
   "metadata": {},
   "source": [
    "# 自适应分类模型"
   ]
  },
  {
   "cell_type": "code",
   "execution_count": null,
   "id": "3bd32840",
   "metadata": {
    "trusted": true
   },
   "outputs": [],
   "source": [
    "# 采样\n",
    "\n",
    "label = \"firepoint\"\n",
    "img_firepoint = img_firepoint.rename([label])\n",
    "\n",
    "img_all = img_firepoint.addBands(img_aspect) \\\n",
    "                        .addBands(img_slope) \\\n",
    "                        .addBands(img_DEM)  \\\n",
    "                        .addBands(img_pop)  \\\n",
    "                        .addBands(img_precipitation) \\\n",
    "                        .addBands(img_clcd) \\\n",
    "                        .addBands(img_soil) \\\n",
    "                        .addBands(img_surface_pressure) \\\n",
    "                        .addBands(img_avg_temp) \\\n",
    "                        .addBands(img_ndvi) \\\n",
    "                        .addBands(img_evaporation) \\\n",
    "                        .addBands(img_wet) \\\n",
    "                        .clip(union_geometry)\n",
    "                        \n",
    "                        \n",
    "                        \n",
    "# 确定取样范围\n",
    "samples = img_all.sampleRegion(union_geometry, 300, True)\n",
    "\n",
    "# 在训练样本中增加一列随机数, 选取80%的样本为训练样本, 选取20%的样本为验证样本\n",
    "sample = samples.randomColumn()\n",
    "training_sample = sample.filter(aie.Filter.lte('random', 0.70))\n",
    "validation_sample = sample.filter(aie.Filter.gt('random', 0.70))"
   ]
  },
  {
   "cell_type": "code",
   "execution_count": null,
   "id": "841b23f6",
   "metadata": {
    "trusted": true
   },
   "outputs": [],
   "source": [
    "# 创建自适应集成分类器，并进行训练\n",
    "trained_classifier = aie.Classifier.adaBoost(10)\n",
    "trained_classifier = trained_classifier.train(training_sample, \n",
    "                                                 label, \n",
    "                                                 img_all.bandNames().getInfo())\n",
    "\n",
    "# 获取训练样本的混淆矩阵, 并对训练精度进行评估\n",
    "train_accuracy = trained_classifier.confusionMatrix()\n",
    "print('Training error matrix:', train_accuracy.getInfo())\n",
    "print('Training overall accuracy:', train_accuracy.accuracy().getInfo())\n",
    "\n",
    "\n",
    "# 使用验证集对分类器进行评估\n",
    "validation = validation_sample.classify(trained_classifier)\n",
    "validation_accuracy = validation.errorMatrix(label, 'classification')\n",
    "print('Validation error matrix:', validation_accuracy.getInfo())\n",
    "print('Validation accuracy:', validation_accuracy.accuracy().getInfo())\n",
    "\n",
    "# 使用训练好的分类器对影像进行分类\n",
    "img_classified = img_all.classify(trained_classifier)\n"
   ]
  },
  {
   "cell_type": "code",
   "execution_count": null,
   "id": "463d73c6",
   "metadata": {
    "trusted": true
   },
   "outputs": [],
   "source": [
    "# 自适应集成分类图层\n",
    "print(img_classified.getInfo())\n",
    "\n",
    "map.addLayer(\n",
    "    img_classified,\n",
    "    {\n",
    "        'min': 0,\n",
    "        'max': 1,\n",
    "        'palette': [\"0,255,255\",\"255,0,0\"]\n",
    "    },\n",
    "    'aie_classification',\n",
    "    bounds=union_fc.getBounds()\n",
    ")\n",
    "\n",
    "add_img(img_classified, map, vis_params)"
   ]
  }
 ],
 "metadata": {
  "kernelspec": {
   "display_name": "Python 3 (ipykernel)",
   "language": "python",
   "name": "python3"
  },
  "language_info": {
   "codemirror_mode": {
    "name": "ipython",
    "version": 3
   },
   "file_extension": ".py",
   "mimetype": "text/x-python",
   "name": "python",
   "nbconvert_exporter": "python",
   "pygments_lexer": "ipython3",
   "version": "3.11.10"
  }
 },
 "nbformat": 4,
 "nbformat_minor": 5
}

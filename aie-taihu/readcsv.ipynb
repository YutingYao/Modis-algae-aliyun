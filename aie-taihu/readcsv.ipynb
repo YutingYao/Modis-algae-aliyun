{
 "cells": [
  {
   "cell_type": "code",
   "execution_count": null,
   "metadata": {},
   "outputs": [],
   "source": [
    "import chardet \n",
    "import pandas as pd\n",
    "# 读取CSV文件\n",
    "csv_file = '/root/Download/AlgaeBloomForecast/Stations2.csv'  # 替换为你的CSV文件路径\n",
    "\n",
    "# 检测文件编码\n",
    "with open(csv_file, 'rb') as f:\n",
    "    result = chardet.detect(f.read())  # 读取文件内容，探测编码\n",
    "\n",
    "print(result['encoding'])\n",
    "# 使用探测到的编码读取文件\n",
    "df = pd.read_csv(csv_file, encoding=result['encoding'])"
   ]
  }
 ],
 "metadata": {
  "language_info": {
   "name": "python"
  }
 },
 "nbformat": 4,
 "nbformat_minor": 2
}

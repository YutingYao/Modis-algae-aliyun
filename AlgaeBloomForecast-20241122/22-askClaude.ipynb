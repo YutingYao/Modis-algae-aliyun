{
 "cells": [
  {
   "cell_type": "code",
   "execution_count": null,
   "metadata": {},
   "outputs": [],
   "source": [
    "# !pip install openai -i https://pypi.tuna.tsinghua.edu.cn/simple"
   ]
  },
  {
   "cell_type": "code",
   "execution_count": null,
   "metadata": {},
   "outputs": [],
   "source": [
    "import os\n",
    "import openai\n",
    "\n",
    "openai.api_key = \"sk-NBj8JhvSyUmrvJMuxUFZd38w858QN0lB2k6voYbxFGlME3Lr\"\n",
    "openai.base_url = \"https://chat.cloudapi.vip/v1/\"\n",
    "openai.default_headers = {\"x-foo\": \"true\"}\n",
    "\n",
    "try:\n",
    "    completion = openai.chat.completions.create(\n",
    "        model=\"claude-3-5-sonnet-20241022\",\n",
    "        messages=[\n",
    "            {\n",
    "                \"role\": \"user\",\n",
    "                \"content\": \"你是谁？\",\n",
    "            },\n",
    "        ],\n",
    "    )\n",
    "    print(completion.choices[0].message.content)\n",
    "except Exception as e:\n",
    "    print(f\"An error occurred: {e}\")"
   ]
  },
  {
   "cell_type": "code",
   "execution_count": null,
   "metadata": {},
   "outputs": [],
   "source": [
    "# !pip install fast_graphrag -i https://pypi.tuna.tsinghua.edu.cn/simple"
   ]
  },
  {
   "cell_type": "code",
   "execution_count": null,
   "metadata": {},
   "outputs": [],
   "source": [
    "# !pip install nest_asyncio -i https://pypi.tuna.tsinghua.edu.cn/simple"
   ]
  },
  {
   "cell_type": "code",
   "execution_count": 1,
   "metadata": {},
   "outputs": [],
   "source": [
    "import nest_asyncio\n",
    "nest_asyncio.apply()"
   ]
  },
  {
   "cell_type": "code",
   "execution_count": 2,
   "metadata": {},
   "outputs": [],
   "source": [
    "# import os\n",
    "# os.environ[\"OPENAI_API_KEY\"] = \"sk-NBj8JhvSyUmrvJMuxUFZd38w858QN0lB2k6voYbxFGlME3Lr\"\n",
    "# os.environ[\"OPENAI_BASE_URL\"] = \"https://chat.cloudapi.vip/v1/\"\n",
    "# os.environ[\"OPENAI_DEFAULT_HEADERS\"] = '{\"x-foo\": \"true\"}'"
   ]
  },
  {
   "cell_type": "code",
   "execution_count": 3,
   "metadata": {},
   "outputs": [],
   "source": [
    "from fast_graphrag import GraphRAG\n",
    "from fast_graphrag._llm import OpenAIEmbeddingService, OpenAILLMService\n",
    "import instructor\n",
    "import os\n",
    "\n",
    "# 定义分析领域\n",
    "DOMAIN = \"分析一段文本中的关键信息,包括人物、地点、事件等要素及其关系。\"\n",
    "\n",
    "# 示例查询\n",
    "EXAMPLE_QUERIES = [\n",
    "    \"这段文本中有哪些主要人物?\",\n",
    "    \"文中提到了哪些重要地点?\", \n",
    "    \"主要人物之间有什么关系?\",\n",
    "    \"文中发生了哪些重要事件?\",\n",
    "    \"这些事件是如何推动情节发展的?\"\n",
    "]\n",
    "\n",
    "# 定义实体类型\n",
    "ENTITY_TYPES = [\"人物\", \"地点\", \"事件\", \"物品\", \"关系\", \"时间\"]\n",
    "\n",
    "# 创建工作目录\n",
    "WORKING_DIR = \"./text_analysis\"\n",
    "os.makedirs(WORKING_DIR, exist_ok=True)\n",
    "\n",
    "# 初始化 GraphRAG\n",
    "grag = GraphRAG(\n",
    "    working_dir=WORKING_DIR,\n",
    "    domain=DOMAIN,\n",
    "    example_queries=\"\\n\".join(EXAMPLE_QUERIES),\n",
    "    entity_types=ENTITY_TYPES,\n",
    "    config=GraphRAG.Config(\n",
    "        llm_service=OpenAILLMService(\n",
    "            model=\"claude-3-haiku-20240307\",\n",
    "            base_url=\"https://chat.cloudapi.vip/v1/\",\n",
    "            api_key=\"sk-NBj8JhvSyUmrvJMuxUFZd38w858QN0lB2k6voYbxFGlME3Lr\",\n",
    "            mode=instructor.Mode.JSON\n",
    "        ),\n",
    "        embedding_service=OpenAIEmbeddingService(\n",
    "            model=\"text-embedding-3-small\", \n",
    "            base_url=\"https://api.chatanywhere.com.cn\",\n",
    "            api_key=\"sk-1ykrqsQr9OwHePc69A3kbd4JewhK0m8o77Vlp9djVUlmJC9b\",\n",
    "            embedding_dim=1024,\n",
    "        ),\n",
    "    ),\n",
    ")"
   ]
  },
  {
   "cell_type": "code",
   "execution_count": 4,
   "metadata": {},
   "outputs": [
    {
     "name": "stderr",
     "output_type": "stream",
     "text": [
      "Extracting data:   0%|          | 0/1 [00:00<?, ?it/s]Error during information extraction from document: 1 validation error for Graph\n",
      "  Invalid JSON: EOF while parsing a value at line 1 column 0 [type=json_invalid, input_value='', input_type=str]\n",
      "    For further information visit https://errors.pydantic.dev/2.10/v/json_invalid\n",
      "Extracting data: 100%|██████████| 1/1 [00:36<00:00, 36.00s/it]\n"
     ]
    },
    {
     "name": "stdout",
     "output_type": "stream",
     "text": [
      "Sorry, I'm not able to provide an answer to that question.\n"
     ]
    }
   ],
   "source": [
    "try:\n",
    "    with open(\"/root/Download/Modis-algae-aliyun/README-EN.md\", \"r\") as f:\n",
    "        grag.insert(f.read())\n",
    "except Exception as e:\n",
    "    print(f\"插入文档时发生错误: {e}\")\n",
    "\n",
    "try:\n",
    "    response = grag.query(\"What is Analytics Vidhya known for?\")\n",
    "    print(response.response)\n",
    "except Exception as e:\n",
    "    print(f\"查询时发生错误: {e}\")"
   ]
  }
 ],
 "metadata": {
  "kernelspec": {
   "display_name": "aie-sdk",
   "language": "python",
   "name": "python3"
  },
  "language_info": {
   "codemirror_mode": {
    "name": "ipython",
    "version": 3
   },
   "file_extension": ".py",
   "mimetype": "text/x-python",
   "name": "python",
   "nbconvert_exporter": "python",
   "pygments_lexer": "ipython3",
   "version": "3.11.10"
  }
 },
 "nbformat": 4,
 "nbformat_minor": 2
}

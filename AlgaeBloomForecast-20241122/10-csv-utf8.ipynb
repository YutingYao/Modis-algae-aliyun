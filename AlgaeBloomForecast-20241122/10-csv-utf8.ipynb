{
 "cells": [
  {
   "cell_type": "code",
   "execution_count": 7,
   "metadata": {},
   "outputs": [
    {
     "name": "stdout",
     "output_type": "stream",
     "text": [
      "数据格式已转换完成\n"
     ]
    }
   ],
   "source": [
    "import pandas as pd\n",
    "\n",
    "# 定义站点名称\n",
    "station = '锡东水厂'\n",
    "\n",
    "# 读取原始CSV文件并选择需要的列\n",
    "df = pd.read_csv(f'/root/Download/Modis-algae-aliyun/AlgaeBloomForecast-20241122/000-{station}.csv', encoding='gbk')\n",
    "\n",
    "# 选择需要的列并重命名\n",
    "df_new = df[['监测时间', '水温', 'pH', '溶解氧', '高锰酸钾', '氨氮', '总磷', '总氮', '电导率', '浊度', '叶绿素', '藻密度']]\n",
    "df_new.columns = ['date', 'temperature', 'pH', 'oxygen', 'permanganate', 'NH', 'TP', 'TN', 'conductivity', 'turbidity', 'chla', 'density']\n",
    "\n",
    "# 保存为新的CSV文件\n",
    "df_new.to_csv(f'/root/Download/Modis-algae-aliyun/AlgaeBloomForecast-20241122/001-{station}.csv', index=False)\n",
    "\n",
    "print('数据格式已转换完成')\n"
   ]
  }
 ],
 "metadata": {
  "kernelspec": {
   "display_name": "aie-sdk",
   "language": "python",
   "name": "python3"
  },
  "language_info": {
   "codemirror_mode": {
    "name": "ipython",
    "version": 3
   },
   "file_extension": ".py",
   "mimetype": "text/x-python",
   "name": "python",
   "nbconvert_exporter": "python",
   "pygments_lexer": "ipython3",
   "version": "3.11.10"
  }
 },
 "nbformat": 4,
 "nbformat_minor": 2
}

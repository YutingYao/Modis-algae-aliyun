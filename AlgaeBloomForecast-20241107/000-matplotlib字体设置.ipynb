{
 "cells": [
  {
   "cell_type": "markdown",
   "metadata": {},
   "source": [
    "请你按照中文和英文分别设置字体，并且plt中的字号都尽可能大一些。\n",
    "请你把单位全部写到label里面。"
   ]
  },
  {
   "cell_type": "code",
   "execution_count": 1,
   "metadata": {},
   "outputs": [
    {
     "data": {
      "text/plain": [
       "Text(0, 0.5, '标签 Y')"
      ]
     },
     "execution_count": 1,
     "metadata": {},
     "output_type": "execute_result"
    },
    {
     "data": {
      "image/png": "[encoded data removed]",
      "text/plain": [
       "<Figure size 640x480 with 1 Axes>"
      ]
     },
     "metadata": {},
     "output_type": "display_data"
    }
   ],
   "source": [
    "import matplotlib.pyplot as plt\n",
    "import matplotlib.font_manager as fm\n",
    "\n",
    "# 设置字体\n",
    "plt.rcParams['font.family'] = ['sans-serif']\n",
    "plt.rcParams['font.sans-serif'] = ['Noto Sans CJK JP', 'DejaVu Sans']  # 中文字体\n",
    "plt.rcParams['font.serif'] = ['DejaVu Serif']  # 英文字体\n",
    "plt.rcParams['axes.unicode_minus'] = False  # 解决负号显示问题\n",
    "\n",
    "# 分别设置中英文字体\n",
    "chinese_font = fm.FontProperties(family='Noto Sans CJK JP')\n",
    "english_font = fm.FontProperties(family='DejaVu Serif')\n",
    "\n",
    "# 使用示例：\n",
    "plt.plot([1, 2, 3], [4, 5, 6])\n",
    "plt.title('测试 Test', fontproperties=chinese_font)\n",
    "plt.xlabel('X Label', fontproperties=english_font)\n",
    "plt.ylabel('标签 Y', fontproperties=chinese_font)"
   ]
  },
  {
   "cell_type": "code",
   "execution_count": 2,
   "metadata": {},
   "outputs": [
    {
     "name": "stdout",
     "output_type": "stream",
     "text": [
      "中文字体 Noto Sans CJK JP 位置: /usr/share/fonts/google-noto-cjk/NotoSansCJK-Regular.ttc\n",
      "英文字体 DejaVu Sans 位置: /root/.conda/envs/hydro/envs/aie-sdk/lib/python3.11/site-packages/matplotlib/mpl-data/fonts/ttf/DejaVuSans.ttf\n",
      "英文字体 DejaVu Serif 位置: /root/.conda/envs/hydro/envs/aie-sdk/lib/python3.11/site-packages/matplotlib/mpl-data/fonts/ttf/DejaVuSerif.ttf\n"
     ]
    }
   ],
   "source": [
    "# 查看字体文件位置\n",
    "print(\"中文字体 Noto Sans CJK JP 位置:\", fm.findfont(fm.FontProperties(family='Noto Sans CJK JP')))\n",
    "print(\"英文字体 DejaVu Sans 位置:\", fm.findfont(fm.FontProperties(family='DejaVu Sans')))\n",
    "print(\"英文字体 DejaVu Serif 位置:\", fm.findfont(fm.FontProperties(family='DejaVu Serif')))\n"
   ]
  },
  {
   "cell_type": "markdown",
   "metadata": {},
   "source": [
    "是的,把字体文件放到这些目录下就可以直接使用了。\n",
    "\n",
    "具体来说:\n",
    "1. 中文字体放在系统字体目录 /usr/share/fonts/ 下\n",
    "2. 英文字体放在 matplotlib 的字体目录下,一般在 matplotlib/mpl-data/fonts/ttf/\n",
    "\n",
    "放好字体文件后,需要:\n",
    "1. 删除 matplotlib 的字体缓存文件(通常在 ~/.cache/matplotlib/)\n",
    "2. 重启 Python 内核\n",
    "3. 重新运行代码\n",
    "\n",
    "这样 matplotlib 就能正确找到并使用这些字体了。\n"
   ]
  },
  {
   "cell_type": "code",
   "execution_count": null,
   "metadata": {},
   "outputs": [
    {
     "name": "stdout",
     "output_type": "stream",
     "text": [
      "以下是7个目标监测点的最新数据:\n",
      "--------------------------------------------------\n",
      "\n",
      "兰山嘴:\n",
      "监测时间: 2024-11-23 08:00:00\n",
      "水质等级: Ⅴ\n",
      "水温: 14.06℃\n",
      "pH值: 7.881\n",
      "溶解氧: 10.445 mg/L\n",
      "高锰酸盐指数: 6.851 mg/L\n",
      "氨氮: 0.025 mg/L\n",
      "总磷: 0.1042 mg/L\n",
      "总氮: 1.743 mg/L\n",
      "叶绿素a: 0.003 mg/L\n",
      "藻密度: 15163130.0 cells/L\n",
      "监测点状态: 正常\n",
      "\n",
      "胥湖心: 未找到相关监测数据\n",
      "\n",
      "锡东水厂:\n",
      "监测时间: 2024-11-23 04:00:00\n",
      "水质等级: Ⅲ\n",
      "水温: 14.092℃\n",
      "pH值: 8.51\n",
      "溶解氧: 9.369 mg/L\n",
      "高锰酸盐指数: 2.465 mg/L\n",
      "氨氮: 0.025 mg/L\n",
      "总磷: 0.03 mg/L\n",
      "总氮: 0.759 mg/L\n",
      "叶绿素a: 0.00907 mg/L\n",
      "藻密度: 4311610.0 cells/L\n",
      "监测点状态: 正常\n",
      "\n",
      "五里湖心:\n",
      "监测时间: 2024-11-23 08:00:00\n",
      "水质等级: Ⅳ\n",
      "水温: 14.09℃\n",
      "pH值: 7.53\n",
      "溶解氧: 7.829 mg/L\n",
      "高锰酸盐指数: 2.91 mg/L\n",
      "氨氮: 0.1653 mg/L\n",
      "总磷: 0.0559 mg/L\n",
      "总氮: 1.199 mg/L\n",
      "叶绿素a: 0.00284 mg/L\n",
      "藻密度: 2545850.0 cells/L\n",
      "监测点状态: 正常\n",
      "\n",
      "乌龟山南:\n",
      "监测时间: 2024-11-23 08:00:00\n",
      "水质等级: Ⅱ\n",
      "水温: 13.74℃\n",
      "pH值: 8.127\n",
      "溶解氧: 9.987 mg/L\n",
      "高锰酸盐指数: 2.009 mg/L\n",
      "氨氮: 0.025 mg/L\n",
      "总磷: 0.0249 mg/L\n",
      "总氮: 0.988 mg/L\n",
      "叶绿素a: 0.00525 mg/L\n",
      "藻密度: 2815250.0 cells/L\n",
      "监测点状态: 正常\n",
      "\n",
      "平台山: 未找到相关监测数据\n",
      "\n",
      "拖山:\n",
      "监测时间: 2024-11-23 08:00:00\n",
      "水质等级: Ⅳ\n",
      "水温: 13.1℃\n",
      "pH值: 8.13\n",
      "溶解氧: 9.48 mg/L\n",
      "高锰酸盐指数: 3.44 mg/L\n",
      "氨氮: 0.074 mg/L\n",
      "总磷: 0.063 mg/L\n",
      "总氮: 1.674 mg/L\n",
      "叶绿素a: 0.01679 mg/L\n",
      "藻密度: 551551.8 cells/L\n",
      "监测点状态: 正常\n"
     ]
    }
   ],
   "source": [
    "# 定义要查找的7个section名称\n",
    "target_sections = ['兰山嘴', '胥湖心', '锡东水厂', '五里湖心', '乌龟山南', '平台山', '拖山']\n",
    "\n",
    "# 从CSV文件中读取数据\n",
    "df = pd.read_csv('water_quality_data.csv')\n",
    "\n",
    "print(\"以下是7个目标监测点的最新数据:\")\n",
    "print(\"-\" * 50)\n",
    "\n",
    "# 遍历目标section并打印信息\n",
    "for section in target_sections:\n",
    "    section_data = df[df['section'] == section]\n",
    "    if not section_data.empty:\n",
    "        latest = section_data.iloc[0]\n",
    "        print(f\"\\n{section}:\")\n",
    "        print(f\"监测时间: {latest['monitor_time']}\")\n",
    "        print(f\"水质等级: {latest['quality']}\")\n",
    "        print(f\"水温: {latest['water_temp']}℃\")\n",
    "        print(f\"pH值: {latest['ph']}\")\n",
    "        print(f\"溶解氧: {latest['dissolvedoxygen']} mg/L\")\n",
    "        print(f\"高锰酸盐指数: {latest['codmn']} mg/L\")\n",
    "        print(f\"氨氮: {latest['nh3-n']} mg/L\")\n",
    "        print(f\"总磷: {latest['tp']} mg/L\")\n",
    "        print(f\"总氮: {latest['tn']} mg/L\")\n",
    "        if pd.notna(latest['chlorophyll']):\n",
    "            print(f\"叶绿素a: {latest['chlorophyll']} mg/L\")\n",
    "        if pd.notna(latest['algal_density']):\n",
    "            print(f\"藻密度: {latest['algal_density']} cells/L\")\n",
    "        print(f\"监测点状态: {latest['section_status']}\")\n",
    "    else:\n",
    "        print(f\"\\n{section}: 未找到相关监测数据\")\n"
   ]
  }
 ],
 "metadata": {
  "kernelspec": {
   "display_name": "aie-sdk",
   "language": "python",
   "name": "python3"
  },
  "language_info": {
   "codemirror_mode": {
    "name": "ipython",
    "version": 3
   },
   "file_extension": ".py",
   "mimetype": "text/x-python",
   "name": "python",
   "nbconvert_exporter": "python",
   "pygments_lexer": "ipython3",
   "version": "3.11.10"
  }
 },
 "nbformat": 4,
 "nbformat_minor": 2
}

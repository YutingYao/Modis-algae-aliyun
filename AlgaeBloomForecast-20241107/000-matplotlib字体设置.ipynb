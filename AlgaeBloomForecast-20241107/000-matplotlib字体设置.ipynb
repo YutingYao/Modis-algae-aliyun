{
 "cells": [
  {
   "cell_type": "markdown",
   "metadata": {},
   "source": [
    "请你按照中文和英文分别设置字体，并且plt中的字号都尽可能大一些。\n",
    "请你把单位全部写到label里面。"
   ]
  },
  {
   "cell_type": "code",
   "execution_count": null,
   "metadata": {},
   "outputs": [],
   "source": [
    "import matplotlib.pyplot as plt\n",
    "import matplotlib.font_manager as fm\n",
    "\n",
    "# 设置字体\n",
    "plt.rcParams['font.family'] = ['sans-serif']\n",
    "plt.rcParams['font.sans-serif'] = ['Noto Sans CJK JP', 'DejaVu Sans']  # 中文字体\n",
    "plt.rcParams['font.serif'] = ['DejaVu Serif']  # 英文字体\n",
    "plt.rcParams['axes.unicode_minus'] = False  # 解决负号显示问题\n",
    "\n",
    "# 分别设置中英文字体\n",
    "chinese_font = fm.FontProperties(family='Noto Sans CJK JP')\n",
    "english_font = fm.FontProperties(family='DejaVu Serif')\n",
    "\n",
    "# 使用示例：\n",
    "plt.plot([1, 2, 3], [4, 5, 6])\n",
    "plt.title('测试 Test', fontproperties=chinese_font)\n",
    "plt.xlabel('X Label', fontproperties=english_font)\n",
    "plt.ylabel('标签 Y', fontproperties=chinese_font)"
   ]
  }
 ],
 "metadata": {
  "language_info": {
   "name": "python"
  }
 },
 "nbformat": 4,
 "nbformat_minor": 2
}

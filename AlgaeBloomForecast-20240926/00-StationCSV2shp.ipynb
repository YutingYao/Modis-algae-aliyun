{
 "cells": [
  {
   "cell_type": "markdown",
   "metadata": {},
   "source": [
    "# 将站点数据转换为shp文件"
   ]
  },
  {
   "cell_type": "code",
   "execution_count": 5,
   "metadata": {},
   "outputs": [
    {
     "name": "stdout",
     "output_type": "stream",
     "text": [
      "ascii\n"
     ]
    }
   ],
   "source": [
    "import chardet \n",
    "import pandas as pd\n",
    "# 读取CSV文件\n",
    "csv_file = '/root/Download/AlgaeBloomForecast/Stations2.csv'  # 替换为你的CSV文件路径\n",
    "\n",
    "# 检测文件编码\n",
    "with open(csv_file, 'rb') as f:\n",
    "    result = chardet.detect(f.read())  # 读取文件内容，探测编码\n",
    "\n",
    "print(result['encoding'])\n",
    "# 使用探测到的编码读取文件\n",
    "df = pd.read_csv(csv_file, encoding=result['encoding'])"
   ]
  },
  {
   "cell_type": "markdown",
   "metadata": {},
   "source": [
    "# 将站点数据转换为shp文件"
   ]
  },
  {
   "cell_type": "code",
   "execution_count": 6,
   "metadata": {},
   "outputs": [
    {
     "name": "stderr",
     "output_type": "stream",
     "text": [
      "/tmp/ipykernel_984/18559675.py:23: UserWarning: Column names longer than 10 characters will be truncated when saved to ESRI Shapefile.\n",
      "  gdf.to_file('output_shapefile_BLOOMS2.shp')\n"
     ]
    }
   ],
   "source": [
    "import geopandas as gpd\n",
    "from shapely.geometry import Point\n",
    "\n",
    "# 读取CSV文件\n",
    "csv_file = '/root/Download/AlgaeBloomForecast/Stations2.csv'  # 替换为你的CSV文件路径\n",
    "\n",
    "# 使用geopandas读取CSV数据，并指定编码格式为utf-8\n",
    "gdf = gpd.read_file(csv_file, encoding=result['encoding'])\n",
    "\n",
    "# 将经度和纬度转换为Point对象，创建几何列\n",
    "gdf['geometry'] = gdf.apply(lambda x: Point(x['Longitude'], x['Latitude']), axis=1)\n",
    "\n",
    "# 确保索引列是字符串类型\n",
    "gdf['Cross Section'] = gdf['Cross Section'].astype(str)\n",
    "\n",
    "# 将'断面'列设置为属性列\n",
    "gdf = gdf.set_index('Cross Section')\n",
    "\n",
    "# 指定坐标系统为WGS 84 (EPSG: 4326)\n",
    "gdf.crs = 'EPSG:4326'\n",
    "\n",
    "# 保存为Shapefile，并包含坐标投影信息\n",
    "gdf.to_file('output_shapefile_BLOOMS2.shp')"
   ]
  }
 ],
 "metadata": {
  "kernelspec": {
   "display_name": "algae",
   "language": "python",
   "name": "python3"
  },
  "language_info": {
   "codemirror_mode": {
    "name": "ipython",
    "version": 3
   },
   "file_extension": ".py",
   "mimetype": "text/x-python",
   "name": "python",
   "nbconvert_exporter": "python",
   "pygments_lexer": "ipython3",
   "version": "3.12.4"
  }
 },
 "nbformat": 4,
 "nbformat_minor": 2
}

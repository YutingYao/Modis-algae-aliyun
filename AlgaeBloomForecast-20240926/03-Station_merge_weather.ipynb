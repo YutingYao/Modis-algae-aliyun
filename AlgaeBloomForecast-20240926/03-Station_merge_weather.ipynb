{
 "cells": [
  {
   "cell_type": "markdown",
   "metadata": {},
   "source": [
    "# 合并天气数据和站点数据\n",
    "date,temp,oxygen,NH3,TP,TN,algae\n",
    "2021/06/02,26.1875,6.6665,0.025,0.068275,1.07325,14400000.0\n",
    "2021/06/03,25.881666666666664,6.6418333333333335,0.025116666666666666,0.06378333333333333,0.9151666666666666,10867091.666666666\n",
    "\n",
    "...................\n",
    "2024/05/19,23.868333333333336,8.204666666666666,0.04885,0.04328333333333333,1.294,21150000.0\n",
    "2024/05/20,24.534,8.5298,0.05567999999999999,0.03828,1.4318,15640000.0\n",
    "2024/05/21,24.595,8.073333333333332,0.05553333333333333,0.03763333333333333,1.6115000000000002,15316666.666666666\n",
    "\n",
    "\n",
    "\n",
    "time,area,weather,max_temperature,min_temperature,aqi,aqiLevel,wind_direction,wind_power,aqiInfo\n",
    "2021-01-01 00:00:00,无锡,晴,5,-4,56,2,西风,2级,良\n",
    "2021-01-02 00:00:00,无锡,多云-晴,7,-2,71,2,东北风,2级,良\n",
    "\n",
    "...................\n",
    "2024-07-23 00:00:00,无锡,晴-多云,38,30,41,1,东南风,2级,优\n",
    "2024-07-24 00:00:00,无锡,晴,36,28,23,1,东南风,2级,优\n",
    "\n"
   ]
  },
  {
   "cell_type": "code",
   "execution_count": 2,
   "metadata": {},
   "outputs": [
    {
     "name": "stdout",
     "output_type": "stream",
     "text": [
      "         date  temp  oxygen  NH3  TP  TN  algae area weather  max_temperature  \\\n",
      "0  2021-01-01   NaN     NaN  NaN NaN NaN    NaN   无锡       晴                5   \n",
      "1  2021-01-02   NaN     NaN  NaN NaN NaN    NaN   无锡    多云-晴                7   \n",
      "2  2021-01-03   NaN     NaN  NaN NaN NaN    NaN   无锡    雾-多云               11   \n",
      "3  2021-01-04   NaN     NaN  NaN NaN NaN    NaN   无锡    阴-小雨               11   \n",
      "4  2021-01-05   NaN     NaN  NaN NaN NaN    NaN   无锡       阴                8   \n",
      "\n",
      "   min_temperature  aqi  aqiLevel wind_direction wind_power aqiInfo  \n",
      "0               -4   56         2             西风         2级       良  \n",
      "1               -2   71         2            东北风         2级       良  \n",
      "2                3   77         2             东风         3级       良  \n",
      "3                5   54         2             东风         3级       良  \n",
      "4                0   62         2            东北风         3级       良  \n"
     ]
    }
   ],
   "source": [
    "import pandas as pd\n",
    "\n",
    "# 读取第一个CSV文件\n",
    "df1 = pd.read_csv('/root/Download/AlgaeBloomForecast/smoothed_data.csv', parse_dates=['date'])\n",
    "\n",
    "# 读取第二个CSV文件\n",
    "df2 = pd.read_csv('/root/Download/AlgaeBloomForecast/sorted_weather_data.csv', parse_dates=['time'])\n",
    "\n",
    "# 将 'time' 列重命名为 'date' 以便合并\n",
    "df2 = df2.rename(columns={'time': 'date'})\n",
    "\n",
    "# 确保两个DataFrame的日期列都只包含日期部分(不包含时间)\n",
    "df1['date'] = df1['date'].dt.date\n",
    "df2['date'] = df2['date'].dt.date\n",
    "\n",
    "# 合并两个DataFrame，使用'date'列作为键\n",
    "merged_df = pd.merge(df1, df2, on='date', how='outer')\n",
    "\n",
    "# 按日期排序\n",
    "merged_df = merged_df.sort_values('date')\n",
    "\n",
    "# 将日期转换回字符串格式\n",
    "merged_df['date'] = merged_df['date'].astype(str)\n",
    "\n",
    "# 保存合并后的数据到新的CSV文件\n",
    "merged_df.to_csv('merged_data.csv', index=False)\n",
    "\n",
    "# 打印前几行结果\n",
    "print(merged_df.head())"
   ]
  }
 ],
 "metadata": {
  "kernelspec": {
   "display_name": "algae",
   "language": "python",
   "name": "python3"
  },
  "language_info": {
   "codemirror_mode": {
    "name": "ipython",
    "version": 3
   },
   "file_extension": ".py",
   "mimetype": "text/x-python",
   "name": "python",
   "nbconvert_exporter": "python",
   "pygments_lexer": "ipython3",
   "version": "3.12.4"
  }
 },
 "nbformat": 4,
 "nbformat_minor": 2
}

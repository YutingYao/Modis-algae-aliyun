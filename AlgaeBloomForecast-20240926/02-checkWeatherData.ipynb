{
 "cells": [
  {
   "cell_type": "markdown",
   "metadata": {},
   "source": [
    "# 检查是否有遗漏或者重复"
   ]
  },
  {
   "cell_type": "code",
   "execution_count": 5,
   "metadata": {},
   "outputs": [],
   "source": [
    "import csv\n",
    "from collections import defaultdict\n",
    "from datetime import datetime, timedelta\n",
    "\n",
    "def check_csv_dates(file_path, date_field_index):\n",
    "    dates = defaultdict(int)\n",
    "    missing_dates = []\n",
    "    \n",
    "    with open(file_path, 'r', newline='', encoding='utf-8') as csvfile:\n",
    "        reader = csv.reader(csvfile)\n",
    "        next(reader)  # 跳过表头\n",
    "        \n",
    "        for row_num, row in enumerate(reader, start=2):  # 从第二行开始计数\n",
    "            try:\n",
    "                date = row[date_field_index]\n",
    "                dates[date] += 1\n",
    "            except (IndexError, ValueError):\n",
    "                print(f\"行号 {row_num} 的日期字段有问题\")\n",
    "    \n",
    "    # 检查重复日期\n",
    "    for date, count in dates.items():\n",
    "        if count > 1:\n",
    "            print(f\"日期 {date} 重复了 {count} 次\")\n",
    "    \n",
    "    # 检查遗漏日期\n",
    "    start_date = datetime.strptime('20210101', '%Y%m%d')\n",
    "    end_date = datetime.strptime('20240731', '%Y%m%d')\n",
    "    current_date = start_date\n",
    "    while current_date <= end_date:\n",
    "        if str(current_date.strftime('%Y%m%d')) not in dates:\n",
    "            missing_dates.append(current_date.strftime('%Y%m%d'))\n",
    "        current_date += timedelta(days=1)\n",
    "    \n",
    "    if missing_dates:\n",
    "        print(\"遗漏的日期:\")\n",
    "        for date in missing_dates:\n",
    "            print(date)\n",
    "\n",
    "# 检查CSV文件\n",
    "check_csv_dates('/root/Download/AlgaeBloomForecast/weather_data.csv', date_field_index=0)"
   ]
  },
  {
   "cell_type": "markdown",
   "metadata": {},
   "source": [
    "# 去重\n"
   ]
  },
  {
   "cell_type": "code",
   "execution_count": 2,
   "metadata": {},
   "outputs": [],
   "source": [
    "import csv\n",
    "\n",
    "def remove_duplicate_dates(file_path, date_field_index):\n",
    "    unique_rows = []\n",
    "    seen_dates = set()\n",
    "    \n",
    "    with open(file_path, 'r', newline='', encoding='utf-8') as csvfile:\n",
    "        reader = csv.reader(csvfile)\n",
    "        header = next(reader)  # 跳过表头\n",
    "        \n",
    "        for row in reader:\n",
    "            date = row[date_field_index]\n",
    "            if date not in seen_dates:\n",
    "                unique_rows.append(row)\n",
    "                seen_dates.add(date)\n",
    "    \n",
    "    with open(file_path, 'w', newline='', encoding='utf-8') as csvfile:\n",
    "        writer = csv.writer(csvfile)\n",
    "        writer.writerow(header)\n",
    "        writer.writerows(unique_rows)\n",
    "\n",
    "# 去重处理\n",
    "remove_duplicate_dates('/root/Download/AlgaeBloomForecast/weather_data.csv', date_field_index=0)"
   ]
  },
  {
   "cell_type": "markdown",
   "metadata": {},
   "source": [
    "# 按日期排序"
   ]
  },
  {
   "cell_type": "code",
   "execution_count": 6,
   "metadata": {},
   "outputs": [],
   "source": [
    "import csv\n",
    "from datetime import datetime\n",
    "\n",
    "def sort_csv_by_date(input_file, output_file, date_field_index):\n",
    "    with open(input_file, 'r', newline='', encoding='utf-8') as csvfile:\n",
    "        reader = csv.reader(csvfile)\n",
    "        header = next(reader)  # 读取表头\n",
    "        data = [row for row in reader]\n",
    "    \n",
    "    # 将日期字符串转换为datetime对象\n",
    "    for row in data:\n",
    "        try:\n",
    "            row[date_field_index] = datetime.strptime(row[date_field_index], '%Y%m%d')\n",
    "        except (IndexError, ValueError):\n",
    "            print(f\"行中的日期字段有问题: {row}\")\n",
    "    \n",
    "    # 按日期排序\n",
    "    sorted_data = sorted(data, key=lambda x: x[date_field_index])\n",
    "    \n",
    "    # 将排序后的数据写入新的CSV文件\n",
    "    with open(output_file, 'w', newline='', encoding='utf-8') as csvfile:\n",
    "        writer = csv.writer(csvfile)\n",
    "        writer.writerow(header)\n",
    "        writer.writerows(sorted_data)\n",
    "\n",
    "# 按日期排序并写入新的CSV文件\n",
    "sort_csv_by_date('/root/Download/AlgaeBloomForecast/weather_data.csv', '/root/Download/AlgaeBloomForecast/sorted_weather_data.csv', date_field_index=0)"
   ]
  }
 ],
 "metadata": {
  "kernelspec": {
   "display_name": "algae",
   "language": "python",
   "name": "python3"
  },
  "language_info": {
   "codemirror_mode": {
    "name": "ipython",
    "version": 3
   },
   "file_extension": ".py",
   "mimetype": "text/x-python",
   "name": "python",
   "nbconvert_exporter": "python",
   "pygments_lexer": "ipython3",
   "version": "3.12.4"
  }
 },
 "nbformat": 4,
 "nbformat_minor": 2
}
